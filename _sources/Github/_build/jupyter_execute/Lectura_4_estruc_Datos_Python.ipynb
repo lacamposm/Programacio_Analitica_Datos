{
 "cells": [
  {
   "cell_type": "markdown",
   "metadata": {
    "id": "3dNAuP66OCE8"
   },
   "source": [
    "# Estructuras de datos en python\n",
    "\n",
    "\n",
    "**Temas:**\n",
    "\n",
    "* Listas\n",
    "* Tuplas\n",
    "* Conjuntos\n",
    "* Diccionarios"
   ]
  },
  {
   "cell_type": "markdown",
   "metadata": {
    "id": "nifPzxsePTal"
   },
   "source": [
    "## 1. Listas\n",
    "\n",
    "Una lista es un tipo de estructura de datos que alamacena una secuencia de elementos, los cuales quedan ordenados en relación a  un índice utilizado para accederlos. Este tipo de estructura permite almacenar y mezclar todo tipo datos, como: enteros, decimales, cadenas, otras listas, y objetos.\n",
    "\n",
    "Una lista vacía (sin elementos en su interior) puede ser declarada en python de la siguiente forma:\n",
    "\n",
    "```python\n",
    "lst_uno = []\n",
    "lst_dos = list()\n",
    "print(lst_uno)\n",
    "print('cantidad elementos en lista: ',len(lst_uno))\n",
    "```\n",
    "\n",
    " Las listas pueden contener elementos del mísmo o diferente tipo.\n",
    "\n",
    "\n",
    "```python\n",
    "lst_ent = [1, 2, 3, 4, 5]\n",
    "lst_real = [1.0, 2.1, 4.8, 6.2]\n",
    "lst_fecha = [\"Martes\", 29, 'de Enero', 2019]\n",
    "```\n",
    "* Generar secuencias o listas con valores iniciales..."
   ]
  },
  {
   "cell_type": "code",
   "execution_count": 1,
   "metadata": {
    "colab": {
     "base_uri": "https://localhost:8080/"
    },
    "executionInfo": {
     "elapsed": 16,
     "status": "ok",
     "timestamp": 1646445829661,
     "user": {
      "displayName": "Luis Andres Campos Maldonado",
      "photoUrl": "https://lh3.googleusercontent.com/a-/AOh14Gjy_VBhR7czCb9Uvs0U0yRgP0qwOadthWro3Ab2=s64",
      "userId": "15478348060554261231"
     },
     "user_tz": 300
    },
    "id": "zTUtoSmoOAcd",
    "outputId": "7849881e-608f-42a2-aff3-08f6f3584626"
   },
   "outputs": [
    {
     "name": "stdout",
     "output_type": "stream",
     "text": [
      "[]\n",
      "cantidad elementos en lista: 0 <class 'list'>\n"
     ]
    }
   ],
   "source": [
    "# celda de código para practicar\n",
    "lst_uno = []\n",
    "lst_dos = list()\n",
    "print(lst_uno)\n",
    "print('cantidad elementos en lista:',len(lst_uno), type(lst_uno))"
   ]
  },
  {
   "cell_type": "markdown",
   "metadata": {
    "id": "qkfjeCLTg6kK"
   },
   "source": [
    "### Agregar elementos a una lista.\n",
    "\n",
    "Usted puede agregar un elemento a una lista vacía o a una lista que ya tenga elementos a partir de la función **append()**. Esta función requiere como argumento el elemento que usted quiere añadir a la lista.\n",
    "\n",
    "\n",
    "\n",
    "```python\n",
    "lst_uno.append('primero')\n",
    "lst_uno.append('segundo')\n",
    "lst_uno.append([2,5])\n",
    "print(lst_uno)\n",
    "print('cantidad elementos en lista: ',len(lst_uno))\n",
    "```\n",
    "Luego de imprimir la lista, usted puede darse cuenta que el último elemento que se agregó fue una lista. Fijese bien que este se agrega a partir de la función *append* como un único elemento.\n",
    "\n",
    "En caso de que se requiera añadir a una lista los elementos de otra lista como elementos independientes, deberá utilizar la función **extend()**\n",
    "\n",
    "\n",
    "```python\n",
    "lst_uno.extend([4,6,7])\n",
    "print(lst_uno)\n",
    "lst_uno.extend([122]*5)\n",
    "```"
   ]
  },
  {
   "cell_type": "code",
   "execution_count": 2,
   "metadata": {
    "executionInfo": {
     "elapsed": 15,
     "status": "ok",
     "timestamp": 1646445829661,
     "user": {
      "displayName": "Luis Andres Campos Maldonado",
      "photoUrl": "https://lh3.googleusercontent.com/a-/AOh14Gjy_VBhR7czCb9Uvs0U0yRgP0qwOadthWro3Ab2=s64",
      "userId": "15478348060554261231"
     },
     "user_tz": 300
    },
    "id": "Emous6KkmCXK"
   },
   "outputs": [],
   "source": [
    "# celda de código para practicar\n",
    "lst_uno.append('primero')\n",
    "lst_uno.append('segundo')"
   ]
  },
  {
   "cell_type": "code",
   "execution_count": 3,
   "metadata": {
    "colab": {
     "base_uri": "https://localhost:8080/"
    },
    "executionInfo": {
     "elapsed": 16,
     "status": "ok",
     "timestamp": 1646445829662,
     "user": {
      "displayName": "Luis Andres Campos Maldonado",
      "photoUrl": "https://lh3.googleusercontent.com/a-/AOh14Gjy_VBhR7czCb9Uvs0U0yRgP0qwOadthWro3Ab2=s64",
      "userId": "15478348060554261231"
     },
     "user_tz": 300
    },
    "id": "on9OzjCTmIWi",
    "outputId": "c93d7feb-7ecd-421c-c9c7-585cd8274dc4"
   },
   "outputs": [
    {
     "name": "stdout",
     "output_type": "stream",
     "text": [
      "['primero', 'segundo', [2, 5]]\n",
      "cantidad elementos en lista:  3\n"
     ]
    }
   ],
   "source": [
    "lst_uno.append([2,5])\n",
    "print(lst_uno)\n",
    "print('cantidad elementos en lista: ',len(lst_uno))"
   ]
  },
  {
   "cell_type": "code",
   "execution_count": 4,
   "metadata": {
    "colab": {
     "base_uri": "https://localhost:8080/"
    },
    "executionInfo": {
     "elapsed": 11,
     "status": "ok",
     "timestamp": 1646445829662,
     "user": {
      "displayName": "Luis Andres Campos Maldonado",
      "photoUrl": "https://lh3.googleusercontent.com/a-/AOh14Gjy_VBhR7czCb9Uvs0U0yRgP0qwOadthWro3Ab2=s64",
      "userId": "15478348060554261231"
     },
     "user_tz": 300
    },
    "id": "WfuqPy5Knjov",
    "outputId": "7cd9b787-942a-42fe-b49b-7bbaaae352c0"
   },
   "outputs": [
    {
     "name": "stdout",
     "output_type": "stream",
     "text": [
      "['primero', 'segundo', [2, 5], 4, 6, 7]\n"
     ]
    }
   ],
   "source": [
    "lst_uno.extend([4,6,7])\n",
    "print(lst_uno)"
   ]
  },
  {
   "cell_type": "code",
   "execution_count": 5,
   "metadata": {
    "colab": {
     "base_uri": "https://localhost:8080/"
    },
    "executionInfo": {
     "elapsed": 7,
     "status": "ok",
     "timestamp": 1646445829662,
     "user": {
      "displayName": "Luis Andres Campos Maldonado",
      "photoUrl": "https://lh3.googleusercontent.com/a-/AOh14Gjy_VBhR7czCb9Uvs0U0yRgP0qwOadthWro3Ab2=s64",
      "userId": "15478348060554261231"
     },
     "user_tz": 300
    },
    "id": "_b3m9qRSoV09",
    "outputId": "d5e68612-9f7b-44d6-f876-618499933d2e"
   },
   "outputs": [
    {
     "data": {
      "text/plain": [
       "[122, 122, 122, 122, 122]"
      ]
     },
     "execution_count": 5,
     "metadata": {},
     "output_type": "execute_result"
    }
   ],
   "source": [
    "[122]*5"
   ]
  },
  {
   "cell_type": "code",
   "execution_count": 6,
   "metadata": {
    "colab": {
     "base_uri": "https://localhost:8080/"
    },
    "executionInfo": {
     "elapsed": 424,
     "status": "ok",
     "timestamp": 1646445830082,
     "user": {
      "displayName": "Luis Andres Campos Maldonado",
      "photoUrl": "https://lh3.googleusercontent.com/a-/AOh14Gjy_VBhR7czCb9Uvs0U0yRgP0qwOadthWro3Ab2=s64",
      "userId": "15478348060554261231"
     },
     "user_tz": 300
    },
    "id": "O0U78Hpaoccl",
    "outputId": "5c08edbd-c699-461d-cece-a5143fb542e3"
   },
   "outputs": [
    {
     "data": {
      "text/plain": [
       "[[1, 2], [1, 2], [1, 2], [1, 2], [1, 2], [1, 2], [1, 2], [1, 2]]"
      ]
     },
     "execution_count": 6,
     "metadata": {},
     "output_type": "execute_result"
    }
   ],
   "source": [
    "[[1,2]]*8"
   ]
  },
  {
   "cell_type": "code",
   "execution_count": 7,
   "metadata": {
    "colab": {
     "base_uri": "https://localhost:8080/"
    },
    "executionInfo": {
     "elapsed": 53,
     "status": "ok",
     "timestamp": 1646445830083,
     "user": {
      "displayName": "Luis Andres Campos Maldonado",
      "photoUrl": "https://lh3.googleusercontent.com/a-/AOh14Gjy_VBhR7czCb9Uvs0U0yRgP0qwOadthWro3Ab2=s64",
      "userId": "15478348060554261231"
     },
     "user_tz": 300
    },
    "id": "9WDbrJ4QJlus",
    "outputId": "901f7796-eec8-47d0-fdb3-c14f9ce17288"
   },
   "outputs": [
    {
     "name": "stdout",
     "output_type": "stream",
     "text": [
      "['primero', 'segundo', [2, 5], 4, 6, 7, 122, 122, 122, 122, 122]\n"
     ]
    }
   ],
   "source": [
    "lst_uno.extend([122]*5)\n",
    "print(lst_uno)"
   ]
  },
  {
   "cell_type": "code",
   "execution_count": 8,
   "metadata": {
    "colab": {
     "base_uri": "https://localhost:8080/"
    },
    "executionInfo": {
     "elapsed": 51,
     "status": "ok",
     "timestamp": 1646445830084,
     "user": {
      "displayName": "Luis Andres Campos Maldonado",
      "photoUrl": "https://lh3.googleusercontent.com/a-/AOh14Gjy_VBhR7czCb9Uvs0U0yRgP0qwOadthWro3Ab2=s64",
      "userId": "15478348060554261231"
     },
     "user_tz": 300
    },
    "id": "eIDH9OI80v3e",
    "outputId": "4baf91b8-576d-4273-c455-c2104b41945b"
   },
   "outputs": [
    {
     "data": {
      "text/plain": [
       "['primero',\n",
       " 'segundo',\n",
       " [2, 5],\n",
       " 4,\n",
       " 6,\n",
       " 7,\n",
       " 122,\n",
       " 122,\n",
       " 122,\n",
       " 122,\n",
       " 122,\n",
       " 'maestria',\n",
       " 'analítica',\n",
       " 'datos']"
      ]
     },
     "execution_count": 8,
     "metadata": {},
     "output_type": "execute_result"
    }
   ],
   "source": [
    "## Otra forma de usar .extend()\n",
    "lst_uno[len(lst_uno):] = [\"maestria\", \"analítica\", \"datos\"]\n",
    "lst_uno"
   ]
  },
  {
   "cell_type": "code",
   "execution_count": 9,
   "metadata": {
    "colab": {
     "base_uri": "https://localhost:8080/"
    },
    "executionInfo": {
     "elapsed": 48,
     "status": "ok",
     "timestamp": 1646445830084,
     "user": {
      "displayName": "Luis Andres Campos Maldonado",
      "photoUrl": "https://lh3.googleusercontent.com/a-/AOh14Gjy_VBhR7czCb9Uvs0U0yRgP0qwOadthWro3Ab2=s64",
      "userId": "15478348060554261231"
     },
     "user_tz": 300
    },
    "id": "2WoR0wgi0MHg",
    "outputId": "4e8f1d51-0c27-4df7-f4c1-afaef6941a98"
   },
   "outputs": [
    {
     "name": "stdout",
     "output_type": "stream",
     "text": [
      "['primero', 'segundo', [2, 5], 4, 6, 7, 122, 122, 122, 122, 122, 'maestria', 'analítica', 'datos']\n"
     ]
    }
   ],
   "source": [
    "# celda para probar\n",
    "print(lst_uno)"
   ]
  },
  {
   "cell_type": "markdown",
   "metadata": {
    "id": "qo92bdy5ixAz"
   },
   "source": [
    "#### Ejercicio 1: \n",
    "\n",
    "Suponga usted que tiene que ir a mercar y debe ir anotando el nombre de los productos y el respectivo precio de todo lo que quiere llevar. El propósito de esta actividad es saber cuanto debe pagar antes de llegar a la caja. Cada vez que usted ingrese un producto a su canasta, deberá anotar el nombre y el valor del producto. Una vez haya finalizado sus compras deberá conocer la cantidad de productos y el total a pagar. ¿Cómo piensa resolver el problema?"
   ]
  },
  {
   "cell_type": "code",
   "execution_count": 10,
   "metadata": {
    "executionInfo": {
     "elapsed": 45,
     "status": "ok",
     "timestamp": 1646445830084,
     "user": {
      "displayName": "Luis Andres Campos Maldonado",
      "photoUrl": "https://lh3.googleusercontent.com/a-/AOh14Gjy_VBhR7czCb9Uvs0U0yRgP0qwOadthWro3Ab2=s64",
      "userId": "15478348060554261231"
     },
     "user_tz": 300
    },
    "id": "GqsJ2rfCjMUw"
   },
   "outputs": [],
   "source": [
    "# Solución del ejercicio 1.\n",
    "# inicialización de variables\n",
    "\n",
    "lst_val_prod = []\n",
    "lst_nom_prod = []\n",
    "total_prod = 0.0"
   ]
  },
  {
   "cell_type": "markdown",
   "metadata": {
    "id": "qV74Ok3tzZQx"
   },
   "source": [
    "### Métodos para recorrer una lista\n",
    "Existen varios métodos en `Python` para recorrer una lista:\n",
    "1. Usando los índices mediante un ciclo _while_\n",
    "2. Usando los índices mediante un ciclo _for_\n",
    "3. Usar un ciclo _for_ con los elementos "
   ]
  },
  {
   "cell_type": "code",
   "execution_count": 11,
   "metadata": {
    "colab": {
     "base_uri": "https://localhost:8080/"
    },
    "executionInfo": {
     "elapsed": 45,
     "status": "ok",
     "timestamp": 1646445830085,
     "user": {
      "displayName": "Luis Andres Campos Maldonado",
      "photoUrl": "https://lh3.googleusercontent.com/a-/AOh14Gjy_VBhR7czCb9Uvs0U0yRgP0qwOadthWro3Ab2=s64",
      "userId": "15478348060554261231"
     },
     "user_tz": 300
    },
    "id": "VEfCK4Iitg4h",
    "outputId": "677c9a1e-b4e9-4e19-dbf4-67771303a720"
   },
   "outputs": [
    {
     "name": "stdout",
     "output_type": "stream",
     "text": [
      "['primero', 'segundo', [2, 5], 4, 6, 7, 122, 122, 122, 122, 122, 'maestria', 'analítica', 'datos']\n"
     ]
    }
   ],
   "source": [
    "print(lst_uno)"
   ]
  },
  {
   "cell_type": "code",
   "execution_count": 12,
   "metadata": {
    "colab": {
     "base_uri": "https://localhost:8080/"
    },
    "executionInfo": {
     "elapsed": 47,
     "status": "ok",
     "timestamp": 1646445830089,
     "user": {
      "displayName": "Luis Andres Campos Maldonado",
      "photoUrl": "https://lh3.googleusercontent.com/a-/AOh14Gjy_VBhR7czCb9Uvs0U0yRgP0qwOadthWro3Ab2=s64",
      "userId": "15478348060554261231"
     },
     "user_tz": 300
    },
    "id": "pi7-uenz6p3Y",
    "outputId": "62ad4d95-f6f1-44ce-ff36-ad1e75c40846"
   },
   "outputs": [
    {
     "data": {
      "text/plain": [
       "0"
      ]
     },
     "execution_count": 12,
     "metadata": {},
     "output_type": "execute_result"
    }
   ],
   "source": [
    "## Proporciona el índice del primer elemento con ese nombre.\n",
    "lst_uno.index(\"primero\")"
   ]
  },
  {
   "cell_type": "code",
   "execution_count": 13,
   "metadata": {
    "colab": {
     "base_uri": "https://localhost:8080/"
    },
    "executionInfo": {
     "elapsed": 44,
     "status": "ok",
     "timestamp": 1646445830089,
     "user": {
      "displayName": "Luis Andres Campos Maldonado",
      "photoUrl": "https://lh3.googleusercontent.com/a-/AOh14Gjy_VBhR7czCb9Uvs0U0yRgP0qwOadthWro3Ab2=s64",
      "userId": "15478348060554261231"
     },
     "user_tz": 300
    },
    "id": "jH52jRQ06U8E",
    "outputId": "6c0c78bc-3ad6-42c4-ff78-97d8ef155dca"
   },
   "outputs": [
    {
     "name": "stdout",
     "output_type": "stream",
     "text": [
      "--------------------------------------------------------------------------------\n",
      "El elemento --> primero, tiene índice en Python de 0 y es el elemento 1\n",
      "--------------------------------------------------------------------------------\n",
      "El elemento --> segundo, tiene índice en Python de 1 y es el elemento 2\n",
      "--------------------------------------------------------------------------------\n",
      "El elemento --> [2, 5], tiene índice en Python de 2 y es el elemento 3\n",
      "--------------------------------------------------------------------------------\n",
      "El elemento --> 4, tiene índice en Python de 3 y es el elemento 4\n",
      "--------------------------------------------------------------------------------\n",
      "El elemento --> 6, tiene índice en Python de 4 y es el elemento 5\n",
      "--------------------------------------------------------------------------------\n",
      "El elemento --> 7, tiene índice en Python de 5 y es el elemento 6\n",
      "--------------------------------------------------------------------------------\n",
      "El elemento --> 122, tiene índice en Python de 6 y es el elemento 7\n",
      "--------------------------------------------------------------------------------\n",
      "El elemento --> 122, tiene índice en Python de 6 y es el elemento 7\n",
      "--------------------------------------------------------------------------------\n",
      "El elemento --> 122, tiene índice en Python de 6 y es el elemento 7\n",
      "--------------------------------------------------------------------------------\n",
      "El elemento --> 122, tiene índice en Python de 6 y es el elemento 7\n",
      "--------------------------------------------------------------------------------\n",
      "El elemento --> 122, tiene índice en Python de 6 y es el elemento 7\n",
      "--------------------------------------------------------------------------------\n",
      "El elemento --> maestria, tiene índice en Python de 11 y es el elemento 12\n",
      "--------------------------------------------------------------------------------\n",
      "El elemento --> analítica, tiene índice en Python de 12 y es el elemento 13\n",
      "--------------------------------------------------------------------------------\n",
      "El elemento --> datos, tiene índice en Python de 13 y es el elemento 14\n",
      "----------------------------------------------------------------------------------------------------\n"
     ]
    }
   ],
   "source": [
    "for elem in lst_uno:\n",
    "  print(\"-\"*80)\n",
    "  print(f'El elemento --> {elem}, tiene índice en Python de {lst_uno.index(elem)} y es el elemento {lst_uno.index(elem)+1}')\n",
    "print(\"-\"*100)"
   ]
  },
  {
   "cell_type": "markdown",
   "metadata": {
    "id": "59Svj9ZljNx4"
   },
   "source": [
    "### 1.2 **Acceder a los elementos de una lista.**\n",
    "\n",
    "El acceso a los elementos de la lista se realiza a través de sus índices. En `Python` los índices de una lista van desde 0 hasta el tamaño de la lista -1. Por ejemplo de la siguiente lista se puede obtener acceso a los elementos 3, 4 y 6 de la siguiente forma:\n",
    "\n",
    "\n",
    "\n",
    "```python\n",
    "lst_anim = ['Perro', 'Gato', 'Pájaro', 'Conejo', 'Pez', 'Hamster', 'Tortuga']\n",
    "```\n",
    "\n",
    "|lst_anim |\\[| Perro | Gato | Pájaro | Conejo | Pez | Hamster | Tortuga | \\]\n",
    "\n",
    "|--- ||:---: | :---: | :---: | :---: | :---: | :---: | :---: | ---\n",
    "\n",
    "|índices |+| 0 | 1 | 2 | 3 | 4 | 5 | 6 |  |\n",
    "\n",
    "|índices |-| -7 | -6 | -5 | -4 | -3 | -2 | -1 |  |\n",
    "\n",
    "```python\n",
    "# Elemento: 3, índice del elemento: 2.\n",
    "print(lst_anim[2])\n",
    "# Elemento: 4, índice del elemento: 3.\n",
    "print(lst_anim[3])\n",
    "# Elemento: 6, índice del elemento: 5.\n",
    "print(lst_anim[5])\n",
    "```\n",
    "\n",
    "También puede modificar el valor de alguno de los elementos de la siguiente forma:\n",
    "\n",
    "```python\n",
    "# Modificando el elemento 4 que tiene por índice 3.\n",
    "lst_anim[3] = 'Jirafa'\n",
    "print(lst_anim)\n",
    "```"
   ]
  },
  {
   "cell_type": "code",
   "execution_count": 14,
   "metadata": {
    "colab": {
     "base_uri": "https://localhost:8080/"
    },
    "executionInfo": {
     "elapsed": 42,
     "status": "ok",
     "timestamp": 1646445830090,
     "user": {
      "displayName": "Luis Andres Campos Maldonado",
      "photoUrl": "https://lh3.googleusercontent.com/a-/AOh14Gjy_VBhR7czCb9Uvs0U0yRgP0qwOadthWro3Ab2=s64",
      "userId": "15478348060554261231"
     },
     "user_tz": 300
    },
    "id": "2viSoJoDjrAK",
    "outputId": "a9ab4500-9d8a-4161-92eb-7e7b2b21375b"
   },
   "outputs": [
    {
     "data": {
      "text/plain": [
       "['Perro', 'Gato', 'Pájaro', 'Conejo', 'Pez', 'Hamster', 'Tortuga']"
      ]
     },
     "execution_count": 14,
     "metadata": {},
     "output_type": "execute_result"
    }
   ],
   "source": [
    "# celda de código para practicar\n",
    "lst_anim = ['Perro', 'Gato', 'Pájaro', 'Conejo', 'Pez', 'Hamster', 'Tortuga']\n",
    "lst_anim"
   ]
  },
  {
   "cell_type": "code",
   "execution_count": 15,
   "metadata": {
    "colab": {
     "base_uri": "https://localhost:8080/"
    },
    "executionInfo": {
     "elapsed": 39,
     "status": "ok",
     "timestamp": 1646445830090,
     "user": {
      "displayName": "Luis Andres Campos Maldonado",
      "photoUrl": "https://lh3.googleusercontent.com/a-/AOh14Gjy_VBhR7czCb9Uvs0U0yRgP0qwOadthWro3Ab2=s64",
      "userId": "15478348060554261231"
     },
     "user_tz": 300
    },
    "id": "jtcI1HPp5EZU",
    "outputId": "fa7faba7-8c82-4615-b5f2-dba6fbce40a5"
   },
   "outputs": [
    {
     "name": "stdout",
     "output_type": "stream",
     "text": [
      "Pájaro\n",
      "Conejo\n",
      "Hamster\n"
     ]
    }
   ],
   "source": [
    "# Elemento: 3, índice del elemento: 2.\n",
    "print(lst_anim[2])\n",
    "# Elemento: 4, índice del elemento: 3.\n",
    "print(lst_anim[3])\n",
    "# Elemento: 6, índice del elemento: 5.\n",
    "print(lst_anim[5])"
   ]
  },
  {
   "cell_type": "code",
   "execution_count": 16,
   "metadata": {
    "colab": {
     "base_uri": "https://localhost:8080/"
    },
    "executionInfo": {
     "elapsed": 36,
     "status": "ok",
     "timestamp": 1646445830090,
     "user": {
      "displayName": "Luis Andres Campos Maldonado",
      "photoUrl": "https://lh3.googleusercontent.com/a-/AOh14Gjy_VBhR7czCb9Uvs0U0yRgP0qwOadthWro3Ab2=s64",
      "userId": "15478348060554261231"
     },
     "user_tz": 300
    },
    "id": "5cXLmmSP5Hul",
    "outputId": "fde38485-436a-48f5-ecac-f8ff11d6b04e"
   },
   "outputs": [
    {
     "name": "stdout",
     "output_type": "stream",
     "text": [
      "['Perro', 'Gato', 'Pájaro', 'Jirafa', 'Pez', 'Hamster', 'Tortuga']\n"
     ]
    }
   ],
   "source": [
    "# Modificando el elemento 4 que tiene por índice 3.\n",
    "lst_anim[3] = 'Jirafa'\n",
    "print(lst_anim)"
   ]
  },
  {
   "cell_type": "markdown",
   "metadata": {
    "id": "4Bg6NhftmlVc"
   },
   "source": [
    "### 1.3 Funciones recurrentes para listas.\n",
    "\n",
    "A continuación se muestran otros métodos para las listas en `python`.\n",
    "\n",
    "```python\n",
    "\n",
    "lst_anim = ['Perro', 'Gato', 'Pájaro', 'Conejo', 'Pez', 'Hamster', 'Tortuga']\n",
    "print(lst_anim)\n",
    "# Remueve los elementos de la lista de acuerdo al argumento pasado a la función.\n",
    "lst_anim.remove('Pájaro')\n",
    "print(lst_anim)\n",
    "# Devuelve el número del indice del elemento que se pasa como argumento a la función.\n",
    "lst_anim.index('Conejo')\n",
    "# Devuelve la cantidad de veces que se repite el elemento que se pasa como argumento en la función.\n",
    "lst_anim.count('Pez')\n",
    "# Invierte el orden de los elementos de la lista.\n",
    "lst_anim.reverse()\n",
    "print(lst_anim)\n",
    "# Inserta un elemento en la posición inidicada. Lo argumentos para la función \n",
    "#son el indice donde se quiere insertar y el elemento a insertar.\n",
    "lst_anim.insert(2,'Caballo')\n",
    "print(lst_anim)\n",
    "# Remueve el elemento de la lista que se pasa como argumento (índice del elemento)\n",
    "# a la función. La función pop devuelve el elemento removido. \n",
    "anim = lst_anim.pop(2)\n",
    "print(anim)\n",
    "# Remueve todos los elementos de la lista.\n",
    "lst_anim.clear()\n",
    "print(lst_anim)\n",
    "```\n",
    "- Generar ciclos para recorrer listas (función zip)\n",
    "- Buscar un elemento en una lista (operador in)"
   ]
  },
  {
   "cell_type": "code",
   "execution_count": 17,
   "metadata": {
    "colab": {
     "base_uri": "https://localhost:8080/"
    },
    "executionInfo": {
     "elapsed": 34,
     "status": "ok",
     "timestamp": 1646445830091,
     "user": {
      "displayName": "Luis Andres Campos Maldonado",
      "photoUrl": "https://lh3.googleusercontent.com/a-/AOh14Gjy_VBhR7czCb9Uvs0U0yRgP0qwOadthWro3Ab2=s64",
      "userId": "15478348060554261231"
     },
     "user_tz": 300
    },
    "id": "0KfuN9S8nVDP",
    "outputId": "d5aaa5d4-5a53-4353-9b92-afa1da5d46da"
   },
   "outputs": [
    {
     "name": "stdout",
     "output_type": "stream",
     "text": [
      "['Perro', 'Gato', 'Pájaro', 'Conejo', 'Pez', 'Hamster', 'Tortuga']\n"
     ]
    }
   ],
   "source": [
    "# pruebe una por una las instrucciones de arriba\n",
    "lst_anim = ['Perro', 'Gato', 'Pájaro', 'Conejo', 'Pez', 'Hamster', 'Tortuga']\n",
    "print(lst_anim)"
   ]
  },
  {
   "cell_type": "code",
   "execution_count": 18,
   "metadata": {
    "colab": {
     "base_uri": "https://localhost:8080/"
    },
    "executionInfo": {
     "elapsed": 32,
     "status": "ok",
     "timestamp": 1646445830091,
     "user": {
      "displayName": "Luis Andres Campos Maldonado",
      "photoUrl": "https://lh3.googleusercontent.com/a-/AOh14Gjy_VBhR7czCb9Uvs0U0yRgP0qwOadthWro3Ab2=s64",
      "userId": "15478348060554261231"
     },
     "user_tz": 300
    },
    "id": "8ijjev3C922F",
    "outputId": "9accead0-acdd-4777-a861-c8f0ec5948d4"
   },
   "outputs": [
    {
     "name": "stdout",
     "output_type": "stream",
     "text": [
      "['Perro', 'Gato', 'Conejo', 'Pez', 'Hamster', 'Tortuga']\n"
     ]
    }
   ],
   "source": [
    "# Remueve los elementos de la lista de acuerdo al argumento pasado a la función.\n",
    "lst_anim.remove('Pájaro')\n",
    "print(lst_anim)"
   ]
  },
  {
   "cell_type": "code",
   "execution_count": 19,
   "metadata": {
    "colab": {
     "base_uri": "https://localhost:8080/"
    },
    "executionInfo": {
     "elapsed": 29,
     "status": "ok",
     "timestamp": 1646445830091,
     "user": {
      "displayName": "Luis Andres Campos Maldonado",
      "photoUrl": "https://lh3.googleusercontent.com/a-/AOh14Gjy_VBhR7czCb9Uvs0U0yRgP0qwOadthWro3Ab2=s64",
      "userId": "15478348060554261231"
     },
     "user_tz": 300
    },
    "id": "cF6DHYHh92zX",
    "outputId": "a27ce449-3ba5-44e2-80c2-9985ec266151"
   },
   "outputs": [
    {
     "data": {
      "text/plain": [
       "2"
      ]
     },
     "execution_count": 19,
     "metadata": {},
     "output_type": "execute_result"
    }
   ],
   "source": [
    "# Devuelve el número del indice del elemento que se pasa como argumento a la función.\n",
    "lst_anim.index('Conejo')"
   ]
  },
  {
   "cell_type": "code",
   "execution_count": 20,
   "metadata": {
    "colab": {
     "base_uri": "https://localhost:8080/"
    },
    "executionInfo": {
     "elapsed": 27,
     "status": "ok",
     "timestamp": 1646445830092,
     "user": {
      "displayName": "Luis Andres Campos Maldonado",
      "photoUrl": "https://lh3.googleusercontent.com/a-/AOh14Gjy_VBhR7czCb9Uvs0U0yRgP0qwOadthWro3Ab2=s64",
      "userId": "15478348060554261231"
     },
     "user_tz": 300
    },
    "id": "zSdX8__692w6",
    "outputId": "f21b4cec-68c1-4876-c2bc-a296d1491402"
   },
   "outputs": [
    {
     "data": {
      "text/plain": [
       "1"
      ]
     },
     "execution_count": 20,
     "metadata": {},
     "output_type": "execute_result"
    }
   ],
   "source": [
    "# Devuelve la cantidad de veces que se repite el elemento que se pasa como argumento en la función.\n",
    "lst_anim.count('Pez')"
   ]
  },
  {
   "cell_type": "code",
   "execution_count": 21,
   "metadata": {
    "colab": {
     "base_uri": "https://localhost:8080/"
    },
    "executionInfo": {
     "elapsed": 25,
     "status": "ok",
     "timestamp": 1646445830092,
     "user": {
      "displayName": "Luis Andres Campos Maldonado",
      "photoUrl": "https://lh3.googleusercontent.com/a-/AOh14Gjy_VBhR7czCb9Uvs0U0yRgP0qwOadthWro3Ab2=s64",
      "userId": "15478348060554261231"
     },
     "user_tz": 300
    },
    "id": "-o7ACCDc92uY",
    "outputId": "ac449864-6a71-4e85-c465-b01c8c63bd05"
   },
   "outputs": [
    {
     "name": "stdout",
     "output_type": "stream",
     "text": [
      "['Tortuga', 'Hamster', 'Pez', 'Conejo', 'Gato', 'Perro']\n"
     ]
    }
   ],
   "source": [
    "# Invierte el orden de los elementos de la lista.\n",
    "lst_anim.reverse()\n",
    "print(lst_anim)"
   ]
  },
  {
   "cell_type": "code",
   "execution_count": 22,
   "metadata": {
    "colab": {
     "base_uri": "https://localhost:8080/"
    },
    "executionInfo": {
     "elapsed": 22,
     "status": "ok",
     "timestamp": 1646445830092,
     "user": {
      "displayName": "Luis Andres Campos Maldonado",
      "photoUrl": "https://lh3.googleusercontent.com/a-/AOh14Gjy_VBhR7czCb9Uvs0U0yRgP0qwOadthWro3Ab2=s64",
      "userId": "15478348060554261231"
     },
     "user_tz": 300
    },
    "id": "FeEmd0uH92sR",
    "outputId": "5844e74d-3d2f-4f7c-e14a-3721e9d5374b"
   },
   "outputs": [
    {
     "name": "stdout",
     "output_type": "stream",
     "text": [
      "['Tortuga', 'Hamster', 'Caballo', 'Pez', 'Conejo', 'Gato', 'Perro']\n"
     ]
    }
   ],
   "source": [
    "# Inserta un elemento en la posición inidicada. Lo argumentos para la función son el indice donde se quiere insertar y el\n",
    "# elemento a insertar.\n",
    "lst_anim.insert(2,'Caballo')\n",
    "print(lst_anim)"
   ]
  },
  {
   "cell_type": "code",
   "execution_count": 23,
   "metadata": {
    "colab": {
     "base_uri": "https://localhost:8080/"
    },
    "executionInfo": {
     "elapsed": 536,
     "status": "ok",
     "timestamp": 1646445830609,
     "user": {
      "displayName": "Luis Andres Campos Maldonado",
      "photoUrl": "https://lh3.googleusercontent.com/a-/AOh14Gjy_VBhR7czCb9Uvs0U0yRgP0qwOadthWro3Ab2=s64",
      "userId": "15478348060554261231"
     },
     "user_tz": 300
    },
    "id": "gVNru8Hd92qE",
    "outputId": "d1d6e553-db04-4cc6-c595-ee90ac75edc6"
   },
   "outputs": [
    {
     "name": "stdout",
     "output_type": "stream",
     "text": [
      "Caballo\n",
      "['Tortuga', 'Hamster', 'Pez', 'Conejo', 'Gato', 'Perro']\n"
     ]
    }
   ],
   "source": [
    "# Remueve el elemento de la lista que se pasa como argumento (índice del elemento) a la función. La función pop devuelve \n",
    "# el elemento removido. \n",
    "anim = lst_anim.pop(2)\n",
    "print(anim)\n",
    "print(lst_anim)"
   ]
  },
  {
   "cell_type": "code",
   "execution_count": 24,
   "metadata": {
    "colab": {
     "base_uri": "https://localhost:8080/"
    },
    "executionInfo": {
     "elapsed": 102,
     "status": "ok",
     "timestamp": 1646445830609,
     "user": {
      "displayName": "Luis Andres Campos Maldonado",
      "photoUrl": "https://lh3.googleusercontent.com/a-/AOh14Gjy_VBhR7czCb9Uvs0U0yRgP0qwOadthWro3Ab2=s64",
      "userId": "15478348060554261231"
     },
     "user_tz": 300
    },
    "id": "BGjTCpYB92n2",
    "outputId": "537db63f-8794-434a-fb32-556333bc8b3d"
   },
   "outputs": [
    {
     "name": "stdout",
     "output_type": "stream",
     "text": [
      "[]\n"
     ]
    }
   ],
   "source": [
    "# Remueve todos los elementos de la lista.\n",
    "lst_anim.clear()\n",
    "print(lst_anim)"
   ]
  },
  {
   "cell_type": "markdown",
   "metadata": {
    "id": "TILFCrqBnZ-5"
   },
   "source": [
    "### Manipular sublistas.\n",
    "\n",
    "En algunos casos al trabajar con listas para la resolución de problemas es necesario extraer partes de la lista original. Python ofrece esta posibilidad  con la siguiente estructura:\n",
    "\n",
    "```python\n",
    "  nom_lista[<indice inicio> : <indice final + 1>]\n",
    "```\n",
    "**Ejemplos:**\n",
    "\n",
    "```python\n",
    "\n",
    "l1 = list(range(-20,20,2))\n",
    "print(l1)\n",
    "l2 = l1[2:8]   # Lista con los elementos del índice 2 hasta el 7\n",
    "print(l2)\n",
    "l2 = l1[1:]    # Lista con los elementos del índice 1 hasta el final de la lista\n",
    "print(l2)\n",
    "l2 = l1[:5]    # Lista con los elementos desde el inicio hasta el índice 4\n",
    "print(l2)\n",
    "l2 = l1[:]     # Lista con todos los elementos\n",
    "print(l2)\n",
    "l2 = l1[15:15] # Lista con los elementos del índice del 15 al 15 (vacía)\n",
    "print(l2)\n",
    "```"
   ]
  },
  {
   "cell_type": "code",
   "execution_count": 25,
   "metadata": {
    "colab": {
     "base_uri": "https://localhost:8080/"
    },
    "executionInfo": {
     "elapsed": 100,
     "status": "ok",
     "timestamp": 1646445830610,
     "user": {
      "displayName": "Luis Andres Campos Maldonado",
      "photoUrl": "https://lh3.googleusercontent.com/a-/AOh14Gjy_VBhR7czCb9Uvs0U0yRgP0qwOadthWro3Ab2=s64",
      "userId": "15478348060554261231"
     },
     "user_tz": 300
    },
    "id": "BYt_QRIHoJyj",
    "outputId": "bb4e86c1-f330-4be1-c978-3bbdbef23809"
   },
   "outputs": [
    {
     "name": "stdout",
     "output_type": "stream",
     "text": [
      "[-20, -18, -16, -14, -12, -10, -8, -6, -4, -2, 0, 2, 4, 6, 8, 10, 12, 14, 16, 18]\n"
     ]
    }
   ],
   "source": [
    "# pruebe las instrucciones una por una\n",
    "l1 = list(range(-20,20,2))\n",
    "print(l1)"
   ]
  },
  {
   "cell_type": "code",
   "execution_count": 26,
   "metadata": {
    "colab": {
     "base_uri": "https://localhost:8080/"
    },
    "executionInfo": {
     "elapsed": 97,
     "status": "ok",
     "timestamp": 1646445830610,
     "user": {
      "displayName": "Luis Andres Campos Maldonado",
      "photoUrl": "https://lh3.googleusercontent.com/a-/AOh14Gjy_VBhR7czCb9Uvs0U0yRgP0qwOadthWro3Ab2=s64",
      "userId": "15478348060554261231"
     },
     "user_tz": 300
    },
    "id": "CqfVhEIh5gMc",
    "outputId": "1b763ab8-e519-40de-a490-267a482f3b30"
   },
   "outputs": [
    {
     "name": "stdout",
     "output_type": "stream",
     "text": [
      "[-16, -14, -12, -10, -8, -6]\n"
     ]
    }
   ],
   "source": [
    "l2 = l1[2:8]   # Lista con los elementos del índice 2 hasta el 7\n",
    "print(l2)"
   ]
  },
  {
   "cell_type": "code",
   "execution_count": 27,
   "metadata": {
    "colab": {
     "base_uri": "https://localhost:8080/"
    },
    "executionInfo": {
     "elapsed": 95,
     "status": "ok",
     "timestamp": 1646445830610,
     "user": {
      "displayName": "Luis Andres Campos Maldonado",
      "photoUrl": "https://lh3.googleusercontent.com/a-/AOh14Gjy_VBhR7czCb9Uvs0U0yRgP0qwOadthWro3Ab2=s64",
      "userId": "15478348060554261231"
     },
     "user_tz": 300
    },
    "id": "digB_SRg5gJq",
    "outputId": "9f2ac0c1-1a0b-49ef-ce8e-a2e85456a5c9"
   },
   "outputs": [
    {
     "name": "stdout",
     "output_type": "stream",
     "text": [
      "[-14, -12, -10, -8, -6, -4, -2, 0, 2, 4, 6, 8, 10, 12, 14, 16, 18]\n"
     ]
    }
   ],
   "source": [
    "l2 = l1[3:]    # Lista con los elementos del índice 1 hasta el final de la lista\n",
    "print(l2)"
   ]
  },
  {
   "cell_type": "code",
   "execution_count": 28,
   "metadata": {
    "colab": {
     "base_uri": "https://localhost:8080/"
    },
    "executionInfo": {
     "elapsed": 92,
     "status": "ok",
     "timestamp": 1646445830611,
     "user": {
      "displayName": "Luis Andres Campos Maldonado",
      "photoUrl": "https://lh3.googleusercontent.com/a-/AOh14Gjy_VBhR7czCb9Uvs0U0yRgP0qwOadthWro3Ab2=s64",
      "userId": "15478348060554261231"
     },
     "user_tz": 300
    },
    "id": "z8SkYJJJ5gG-",
    "outputId": "af6cd41e-67d3-4692-c999-dd8354c0646a"
   },
   "outputs": [
    {
     "name": "stdout",
     "output_type": "stream",
     "text": [
      "[-20, -18, -16, -14, -12]\n"
     ]
    }
   ],
   "source": [
    "l2 = l1[:5]    # Lista con los elementos desde el inicio hasta el índice 4\n",
    "print(l2)"
   ]
  },
  {
   "cell_type": "code",
   "execution_count": 29,
   "metadata": {
    "colab": {
     "base_uri": "https://localhost:8080/"
    },
    "executionInfo": {
     "elapsed": 89,
     "status": "ok",
     "timestamp": 1646445830611,
     "user": {
      "displayName": "Luis Andres Campos Maldonado",
      "photoUrl": "https://lh3.googleusercontent.com/a-/AOh14Gjy_VBhR7czCb9Uvs0U0yRgP0qwOadthWro3Ab2=s64",
      "userId": "15478348060554261231"
     },
     "user_tz": 300
    },
    "id": "tRqV_BB95gEk",
    "outputId": "979ed6cb-0bf4-4eaa-e923-3578f2dd0d20"
   },
   "outputs": [
    {
     "name": "stdout",
     "output_type": "stream",
     "text": [
      "[-20, -18, -16, -14, -12, -10, -8, -6, -4, -2, 0, 2, 4, 6, 8, 10, 12, 14, 16, 18]\n"
     ]
    }
   ],
   "source": [
    "l2 = l1[:]     # Lista con todos los elementos, además puede crear una copy de la lista.\n",
    "print(l2)"
   ]
  },
  {
   "cell_type": "code",
   "execution_count": 30,
   "metadata": {
    "colab": {
     "base_uri": "https://localhost:8080/"
    },
    "executionInfo": {
     "elapsed": 87,
     "status": "ok",
     "timestamp": 1646445830611,
     "user": {
      "displayName": "Luis Andres Campos Maldonado",
      "photoUrl": "https://lh3.googleusercontent.com/a-/AOh14Gjy_VBhR7czCb9Uvs0U0yRgP0qwOadthWro3Ab2=s64",
      "userId": "15478348060554261231"
     },
     "user_tz": 300
    },
    "id": "rih8cLpu5gCU",
    "outputId": "2b7a9cd3-c98a-4a45-bd02-3d78fddb5634"
   },
   "outputs": [
    {
     "name": "stdout",
     "output_type": "stream",
     "text": [
      "[]\n"
     ]
    }
   ],
   "source": [
    "l2 = l1[15:15] # Lista con los elementos del índice del 15 al 15 (vacía)\n",
    "print(l2)"
   ]
  },
  {
   "cell_type": "markdown",
   "metadata": {
    "id": "D-JfKNCCoNgS"
   },
   "source": [
    "### Ejercicio 2\n",
    "\n",
    "Usted también puede modificar los elementos de una lista usando sublistas. Revise con cuidado cada una de las siguientes líneas de código, trate de predecir lo que va a suceder y valide cada uno de los comportamientos presentados. El insertar, modificar y eliminar sublistas también se hace a partir de los índices de los elementos de la lista.\n",
    "\n",
    "```python\n",
    "letras = ['a', 'b', 'c', 'd', 'e', 'f', 'g', 'h', 'i', 'k', 'l', 'm', 'ñ', 'o']\n",
    "print(letras)\n",
    "letras[1:4] = ['k']               # Se sustituye la sublista ['b', 'c', 'd'] por ['k'], solo reemplazara el elemento 1 de la lista\n",
    "print(letras)\n",
    "letras[1:4] = [1, 2]              # Se sustituye la sublista ['k', 'c' , 'd'] por [1, 2], reemplazará 2 elementos de la lista\n",
    "print(letras)\n",
    "letras[3:4] = [76]                # Se sustituye la sublista ['g'] por [76], reemplazará 1 elemento de lista\n",
    "print(letras)\n",
    "letras[6:6] = ['%', '&']          # Se inserta la sublista ['%', '&'] a partir de la posición 6 de la lista\n",
    "print(letras)\n",
    "letras[0:3] = []                  # Se elimina la sublista ['a', 1, 2] a partir de la posición 0 hasta la 2\n",
    "print(letras)\n",
    "letras[-100:-50] = ['q','a','z']  # Se inserta ['q','a','z']. Python acepta valores de índices fuera del rango. Para este caso se insertará la sublista al inicio\n",
    "print(letras)\n",
    "letras[120:140] = ['q','a','z']   # Se inserta ['q','a','z']. Python acepta valores de índices fuera del rango. Para este caso se insertará la sublista al final\n",
    "print(letras)\n",
    "del letras[10]                    # Borrará el elemento que tiene por índice 10 de la lista\n",
    "print(letras)\n",
    "del letras[8:]                    # Borrará los elementos a partir del índice 8 hasta el final de la lista\n",
    "print(letras)\n",
    "```\n",
    "\n"
   ]
  },
  {
   "cell_type": "code",
   "execution_count": 31,
   "metadata": {
    "colab": {
     "base_uri": "https://localhost:8080/"
    },
    "executionInfo": {
     "elapsed": 85,
     "status": "ok",
     "timestamp": 1646445830612,
     "user": {
      "displayName": "Luis Andres Campos Maldonado",
      "photoUrl": "https://lh3.googleusercontent.com/a-/AOh14Gjy_VBhR7czCb9Uvs0U0yRgP0qwOadthWro3Ab2=s64",
      "userId": "15478348060554261231"
     },
     "user_tz": 300
    },
    "id": "B4GIsNf6oyzq",
    "outputId": "b892faac-96da-4020-e57f-982109c318f8"
   },
   "outputs": [
    {
     "name": "stdout",
     "output_type": "stream",
     "text": [
      "['a', 'b', 'c', 'd', 'e', 'f', 'g', 'h', 'i', 'k', 'l', 'm', 'ñ', 'o']\n"
     ]
    }
   ],
   "source": [
    "# celda de código para practicar\n",
    "letras = ['a', 'b', 'c', 'd', 'e', 'f', 'g', 'h', 'i', 'k', 'l', 'm', 'ñ', 'o']\n",
    "print(letras)"
   ]
  },
  {
   "cell_type": "code",
   "execution_count": 32,
   "metadata": {
    "colab": {
     "base_uri": "https://localhost:8080/"
    },
    "executionInfo": {
     "elapsed": 82,
     "status": "ok",
     "timestamp": 1646445830612,
     "user": {
      "displayName": "Luis Andres Campos Maldonado",
      "photoUrl": "https://lh3.googleusercontent.com/a-/AOh14Gjy_VBhR7czCb9Uvs0U0yRgP0qwOadthWro3Ab2=s64",
      "userId": "15478348060554261231"
     },
     "user_tz": 300
    },
    "id": "q6hJhUOE8vuV",
    "outputId": "272d09ad-9755-4e53-875d-d9ca2790e48d"
   },
   "outputs": [
    {
     "name": "stdout",
     "output_type": "stream",
     "text": [
      "['a', 'k', 'e', 'f', 'g', 'h', 'i', 'k', 'l', 'm', 'ñ', 'o']\n"
     ]
    }
   ],
   "source": [
    "# Se sustituye la sublista ['b', 'c', 'd'] por ['k'], solo reemplazara el elemento 1 de la lista\n",
    "letras[1:4] = ['k']  \n",
    "print(letras)"
   ]
  },
  {
   "cell_type": "code",
   "execution_count": 33,
   "metadata": {
    "colab": {
     "base_uri": "https://localhost:8080/"
    },
    "executionInfo": {
     "elapsed": 79,
     "status": "ok",
     "timestamp": 1646445830612,
     "user": {
      "displayName": "Luis Andres Campos Maldonado",
      "photoUrl": "https://lh3.googleusercontent.com/a-/AOh14Gjy_VBhR7czCb9Uvs0U0yRgP0qwOadthWro3Ab2=s64",
      "userId": "15478348060554261231"
     },
     "user_tz": 300
    },
    "id": "b64dc1lK8vrn",
    "outputId": "b2883a0c-cac8-4c6e-c7af-603a41488c40"
   },
   "outputs": [
    {
     "name": "stdout",
     "output_type": "stream",
     "text": [
      "['a', 1, 2, 'g', 'h', 'i', 'k', 'l', 'm', 'ñ', 'o']\n"
     ]
    }
   ],
   "source": [
    "# Se sustituye la sublista ['k', 'c' , 'd'] por [1, 2], reemplazará 2 elementos de la lista\n",
    "letras[1:4] = [1, 2]   \n",
    "print(letras)"
   ]
  },
  {
   "cell_type": "code",
   "execution_count": 34,
   "metadata": {
    "colab": {
     "base_uri": "https://localhost:8080/"
    },
    "executionInfo": {
     "elapsed": 77,
     "status": "ok",
     "timestamp": 1646445830613,
     "user": {
      "displayName": "Luis Andres Campos Maldonado",
      "photoUrl": "https://lh3.googleusercontent.com/a-/AOh14Gjy_VBhR7czCb9Uvs0U0yRgP0qwOadthWro3Ab2=s64",
      "userId": "15478348060554261231"
     },
     "user_tz": 300
    },
    "id": "mQKGC9jE8vp2",
    "outputId": "04a30514-5a16-44db-fd16-63e479a4718b"
   },
   "outputs": [
    {
     "name": "stdout",
     "output_type": "stream",
     "text": [
      "['a', 1, 2, 76, 'h', 'i', 'k', 'l', 'm', 'ñ', 'o']\n"
     ]
    }
   ],
   "source": [
    "# Se sustituye la sublista ['g'] por [76], reemplazará 1 elemento de lista\n",
    "letras[3:4] = [76]                \n",
    "print(letras)"
   ]
  },
  {
   "cell_type": "code",
   "execution_count": 35,
   "metadata": {
    "colab": {
     "base_uri": "https://localhost:8080/"
    },
    "executionInfo": {
     "elapsed": 74,
     "status": "ok",
     "timestamp": 1646445830613,
     "user": {
      "displayName": "Luis Andres Campos Maldonado",
      "photoUrl": "https://lh3.googleusercontent.com/a-/AOh14Gjy_VBhR7czCb9Uvs0U0yRgP0qwOadthWro3Ab2=s64",
      "userId": "15478348060554261231"
     },
     "user_tz": 300
    },
    "id": "OwJPCHjm8vng",
    "outputId": "56cde289-6d8c-48b5-803e-5af0ee95e300"
   },
   "outputs": [
    {
     "name": "stdout",
     "output_type": "stream",
     "text": [
      "['a', 1, 2, 76, 'h', 'i', '%', '&', 'k', 'l', 'm', 'ñ', 'o']\n"
     ]
    }
   ],
   "source": [
    "# Se inserta la sublista ['%', '&'] a partir de la posición 6 de la lista\n",
    "letras[6:6] = ['%', '&']          \n",
    "print(letras)"
   ]
  },
  {
   "cell_type": "code",
   "execution_count": 36,
   "metadata": {
    "colab": {
     "base_uri": "https://localhost:8080/"
    },
    "executionInfo": {
     "elapsed": 71,
     "status": "ok",
     "timestamp": 1646445830613,
     "user": {
      "displayName": "Luis Andres Campos Maldonado",
      "photoUrl": "https://lh3.googleusercontent.com/a-/AOh14Gjy_VBhR7czCb9Uvs0U0yRgP0qwOadthWro3Ab2=s64",
      "userId": "15478348060554261231"
     },
     "user_tz": 300
    },
    "id": "CScwstra8vld",
    "outputId": "c951d4f9-7371-4bdf-b4c4-3924e84686fe"
   },
   "outputs": [
    {
     "name": "stdout",
     "output_type": "stream",
     "text": [
      "[76, 'h', 'i', '%', '&', 'k', 'l', 'm', 'ñ', 'o']\n"
     ]
    }
   ],
   "source": [
    "# Se elimina la sublista ['a', 1, 2] a partir de la posición 0 hasta la 2\n",
    "letras[0:3] = []                  \n",
    "print(letras)"
   ]
  },
  {
   "cell_type": "code",
   "execution_count": 37,
   "metadata": {
    "colab": {
     "base_uri": "https://localhost:8080/"
    },
    "executionInfo": {
     "elapsed": 69,
     "status": "ok",
     "timestamp": 1646445830614,
     "user": {
      "displayName": "Luis Andres Campos Maldonado",
      "photoUrl": "https://lh3.googleusercontent.com/a-/AOh14Gjy_VBhR7czCb9Uvs0U0yRgP0qwOadthWro3Ab2=s64",
      "userId": "15478348060554261231"
     },
     "user_tz": 300
    },
    "id": "cMRpyxBb8vjU",
    "outputId": "08e527d8-1c68-41fe-e084-9d238b89434c"
   },
   "outputs": [
    {
     "name": "stdout",
     "output_type": "stream",
     "text": [
      "['q', 'a', 'z', 76, 'h', 'i', '%', '&', 'k', 'l', 'm', 'ñ', 'o']"
     ]
    },
    {
     "name": "stdout",
     "output_type": "stream",
     "text": [
      "\n"
     ]
    }
   ],
   "source": [
    "# Se inserta ['q','a','z']. Python acepta valores de índices fuera del rango. Para este caso se insertará la sublista al inicio\n",
    "letras[-100:-50] = ['q','a','z']\n",
    "print(letras)"
   ]
  },
  {
   "cell_type": "code",
   "execution_count": 38,
   "metadata": {
    "colab": {
     "base_uri": "https://localhost:8080/"
    },
    "executionInfo": {
     "elapsed": 67,
     "status": "ok",
     "timestamp": 1646445830614,
     "user": {
      "displayName": "Luis Andres Campos Maldonado",
      "photoUrl": "https://lh3.googleusercontent.com/a-/AOh14Gjy_VBhR7czCb9Uvs0U0yRgP0qwOadthWro3Ab2=s64",
      "userId": "15478348060554261231"
     },
     "user_tz": 300
    },
    "id": "LqKd7tvS8vhE",
    "outputId": "9c448bac-b984-4391-d0ca-64384cc8e498"
   },
   "outputs": [
    {
     "name": "stdout",
     "output_type": "stream",
     "text": [
      "['q', 'a', 'z', 76, 'h', 'i', '%', '&', 'k', 'l', 'm', 'ñ', 'o', 'q', 'a', 'z']\n"
     ]
    }
   ],
   "source": [
    "# Se inserta ['q','a','z']. Python acepta valores de índices fuera del rango. Para este caso se insertará la sublista al final\n",
    "letras[120:140] = ['q','a','z']\n",
    "print(letras)"
   ]
  },
  {
   "cell_type": "code",
   "execution_count": 39,
   "metadata": {
    "colab": {
     "base_uri": "https://localhost:8080/"
    },
    "executionInfo": {
     "elapsed": 63,
     "status": "ok",
     "timestamp": 1646445830614,
     "user": {
      "displayName": "Luis Andres Campos Maldonado",
      "photoUrl": "https://lh3.googleusercontent.com/a-/AOh14Gjy_VBhR7czCb9Uvs0U0yRgP0qwOadthWro3Ab2=s64",
      "userId": "15478348060554261231"
     },
     "user_tz": 300
    },
    "id": "kaeZdswW8vfM",
    "outputId": "ed846697-ffe1-415e-8249-e970df99f499"
   },
   "outputs": [
    {
     "name": "stdout",
     "output_type": "stream",
     "text": [
      "['q', 'a', 'z', 76, 'h', 'i', '%', '&', 'k', 'l', 'ñ', 'o', 'q', 'a', 'z']\n"
     ]
    }
   ],
   "source": [
    "# Borrará el elemento que tiene por índice 10 de la lista\n",
    "del letras[10]\n",
    "print(letras)"
   ]
  },
  {
   "cell_type": "code",
   "execution_count": 40,
   "metadata": {
    "colab": {
     "base_uri": "https://localhost:8080/"
    },
    "executionInfo": {
     "elapsed": 61,
     "status": "ok",
     "timestamp": 1646445830615,
     "user": {
      "displayName": "Luis Andres Campos Maldonado",
      "photoUrl": "https://lh3.googleusercontent.com/a-/AOh14Gjy_VBhR7czCb9Uvs0U0yRgP0qwOadthWro3Ab2=s64",
      "userId": "15478348060554261231"
     },
     "user_tz": 300
    },
    "id": "XWGt78uo9CoV",
    "outputId": "5a028548-0159-42ec-fc22-d6ce2c3cec7d"
   },
   "outputs": [
    {
     "name": "stdout",
     "output_type": "stream",
     "text": [
      "['q', 'a', 'z', 76, 'h', 'i', '%', '&']\n"
     ]
    }
   ],
   "source": [
    "# Borrará los elementos a partir del índice 8 hasta el final de la lista\n",
    "del letras[8:]\n",
    "print(letras)"
   ]
  },
  {
   "cell_type": "markdown",
   "metadata": {
    "id": "FqFMf6e8ozLi"
   },
   "source": [
    "## list comprehension\n",
    "\n",
    "\n",
    "Las comprensiones de listas ofrecen una forma rápida y concisa para la creación de listas. Esto consiste en la codificación de una ***expresión*** seguida de la cláusula ***for*** a la cual se le puede añadir cláusulas ***if*** o ***for*** en caso de que sea requerido.\n",
    "\n",
    "La comprensión de listas se destacan en `Python` para crear nuevas listas. Cada elemento es el resultado de algunas operaciones aplicadas sobre la lista (secuencia u objeto iterable) a partir de una condición u otros ciclos.\n",
    "\n",
    "La estructura básica de una comprensión de lista es:\n",
    "\n",
    "\n",
    "```\n",
    " lista = [expresion for elemento in objeto_iterable]\n",
    "```\n",
    "\n",
    "\n",
    "\n",
    "La forma general de crear una lista con la estructura cíclica for es:\n",
    "\n",
    "\n",
    "\n",
    "```python\n",
    "# Lista de los números enteros del 1 al 10\n",
    "nums = []\n",
    "\n",
    "for i in range(1,11):\n",
    "  nums.append(i)\n",
    "print(nums)\n",
    "\n",
    "```\n",
    "\n",
    "Usted podría realizar esto con una comprensión de listas. Ejemplo:\n",
    "\n",
    "\n",
    "```python\n",
    "nums = [num for num in range(1,11)]\n",
    "print(nums)\n",
    "```"
   ]
  },
  {
   "cell_type": "code",
   "execution_count": 41,
   "metadata": {
    "colab": {
     "base_uri": "https://localhost:8080/"
    },
    "executionInfo": {
     "elapsed": 58,
     "status": "ok",
     "timestamp": 1646445830615,
     "user": {
      "displayName": "Luis Andres Campos Maldonado",
      "photoUrl": "https://lh3.googleusercontent.com/a-/AOh14Gjy_VBhR7czCb9Uvs0U0yRgP0qwOadthWro3Ab2=s64",
      "userId": "15478348060554261231"
     },
     "user_tz": 300
    },
    "id": "AwvtUpbEpA73",
    "outputId": "93c76645-6217-468a-b0d1-7314f5c2011f"
   },
   "outputs": [
    {
     "name": "stdout",
     "output_type": "stream",
     "text": [
      "[1, 2, 3, 4, 5, 6, 7, 8, 9, 10]\n"
     ]
    }
   ],
   "source": [
    "# celda de código para practicar\n",
    "nums = []\n",
    "\n",
    "for i in range(1,11):\n",
    "  nums.append(i)\n",
    "print(nums)"
   ]
  },
  {
   "cell_type": "code",
   "execution_count": 42,
   "metadata": {
    "colab": {
     "base_uri": "https://localhost:8080/"
    },
    "executionInfo": {
     "elapsed": 55,
     "status": "ok",
     "timestamp": 1646445830615,
     "user": {
      "displayName": "Luis Andres Campos Maldonado",
      "photoUrl": "https://lh3.googleusercontent.com/a-/AOh14Gjy_VBhR7czCb9Uvs0U0yRgP0qwOadthWro3Ab2=s64",
      "userId": "15478348060554261231"
     },
     "user_tz": 300
    },
    "id": "b_LCVGoQAxmo",
    "outputId": "6ea060fe-3b1a-4bd6-d74f-c30b9b676008"
   },
   "outputs": [
    {
     "name": "stdout",
     "output_type": "stream",
     "text": [
      "[1, 2, 3, 4, 5, 6, 7, 8, 9, 10]\n"
     ]
    }
   ],
   "source": [
    "nums = [num for num in range(1,11)]\n",
    "print(nums)"
   ]
  },
  {
   "cell_type": "markdown",
   "metadata": {
    "id": "7PQQAm0bpBO6"
   },
   "source": [
    "### Comprensión de listas con estructuras condicionales.\n",
    "\n",
    "Ahora analice los siguientes ejemplos que estan construidos a partir de comprensión de listas. Interprete y documente el código que se muestra para cada ejemplo indicando que hace cada instrucción.\n",
    "\n",
    "```python\n",
    "# Pruebe una por una las instrucciones en esta celda.\n",
    "nums = list(range(-10,10))\n",
    "num_txt = ['uno', 'dos', 'tres', 'cuatro', 'cinco', 'seis', 'siete', 'ocho', 'nueve', 'diez']\n",
    "# Comprensión de listas\n",
    "l1 = [n**2 for n in nums]\n",
    "print(l1)\n",
    "# Comprensión de listas con funciones de python\n",
    "vocales = [v.lower() for v in ['A','E','I','O','U']]\n",
    "l2 = [abs(n) for n in nums]\n",
    "print(l2)\n",
    "# Comprensión de listas con if\n",
    "l3 = [n**2 for n in nums if n%2==0]\n",
    "print(l3)\n",
    "# Comprensión de listas con if y else\n",
    "texto = 'El almuerzo suelo acompañarlo con 3 manzanas y 10 peras'\n",
    "texto2 = [txt if not txt.isnumeric() else num_txt[int(txt)-1] for txt in texto.split(' ')]\n",
    "print(texto2)\n",
    "string = \" \"\n",
    "texto3 = string.join(texto2)\n",
    "print(texto3)\n",
    "# Comprensión de listas con multiple if\n",
    "modulo = [x for x in range(100) if x % 2 == 0 if x % 5 == 0]\n",
    "print(modulo)\n",
    "```"
   ]
  },
  {
   "cell_type": "code",
   "execution_count": 43,
   "metadata": {
    "colab": {
     "base_uri": "https://localhost:8080/"
    },
    "executionInfo": {
     "elapsed": 54,
     "status": "ok",
     "timestamp": 1646445830616,
     "user": {
      "displayName": "Luis Andres Campos Maldonado",
      "photoUrl": "https://lh3.googleusercontent.com/a-/AOh14Gjy_VBhR7czCb9Uvs0U0yRgP0qwOadthWro3Ab2=s64",
      "userId": "15478348060554261231"
     },
     "user_tz": 300
    },
    "id": "hVTL1xyvqT8K",
    "outputId": "191120bf-f2cb-4b94-f989-e70a512a277f"
   },
   "outputs": [
    {
     "name": "stdout",
     "output_type": "stream",
     "text": [
      "[-10, -9, -8, -7, -6, -5, -4, -3, -2, -1, 0, 1, 2, 3, 4, 5, 6, 7, 8, 9]\n",
      "-----------------------------------------------------------------------------------\n",
      "['uno', 'dos', 'tres', 'cuatro', 'cinco', 'seis', 'siete', 'ocho', 'nueve', 'diez']\n"
     ]
    }
   ],
   "source": [
    "# celda de código para practicar\n",
    "nums = list(range(-10,10))\n",
    "num_txt = ['uno', 'dos', 'tres', 'cuatro', 'cinco', 'seis', 'siete', 'ocho', 'nueve', 'diez']\n",
    "print(nums)\n",
    "print(\"-\"*83)\n",
    "print(num_txt)"
   ]
  },
  {
   "cell_type": "code",
   "execution_count": 44,
   "metadata": {
    "colab": {
     "base_uri": "https://localhost:8080/"
    },
    "executionInfo": {
     "elapsed": 51,
     "status": "ok",
     "timestamp": 1646445830616,
     "user": {
      "displayName": "Luis Andres Campos Maldonado",
      "photoUrl": "https://lh3.googleusercontent.com/a-/AOh14Gjy_VBhR7czCb9Uvs0U0yRgP0qwOadthWro3Ab2=s64",
      "userId": "15478348060554261231"
     },
     "user_tz": 300
    },
    "id": "oR67F-YkBPVm",
    "outputId": "b9683e2b-e97e-44d6-a20a-c72b5a26e841"
   },
   "outputs": [
    {
     "name": "stdout",
     "output_type": "stream",
     "text": [
      "[100, 81, 64, 49, 36, 25, 16, 9, 4, 1, 0, 1, 4, 9, 16, 25, 36, 49, 64, 81]\n"
     ]
    }
   ],
   "source": [
    "l1 = [n**2 for n in nums]\n",
    "print(l1)"
   ]
  },
  {
   "cell_type": "code",
   "execution_count": 45,
   "metadata": {
    "colab": {
     "base_uri": "https://localhost:8080/"
    },
    "executionInfo": {
     "elapsed": 48,
     "status": "ok",
     "timestamp": 1646445830616,
     "user": {
      "displayName": "Luis Andres Campos Maldonado",
      "photoUrl": "https://lh3.googleusercontent.com/a-/AOh14Gjy_VBhR7czCb9Uvs0U0yRgP0qwOadthWro3Ab2=s64",
      "userId": "15478348060554261231"
     },
     "user_tz": 300
    },
    "id": "eEvyDby7gkWd",
    "outputId": "6360958f-2962-428b-93bb-d7316d1f3c80"
   },
   "outputs": [
    {
     "name": "stdout",
     "output_type": "stream",
     "text": [
      "[100, 81, 64, 49, 36, 25, 16, 9, 4, 1, 0, 1, 4, 9, 16, 25, 36, 49, 64, 81]\n"
     ]
    }
   ],
   "source": [
    "l1 = [andres**2 for andres in nums]\n",
    "print(l1)"
   ]
  },
  {
   "cell_type": "code",
   "execution_count": 46,
   "metadata": {
    "colab": {
     "base_uri": "https://localhost:8080/"
    },
    "executionInfo": {
     "elapsed": 46,
     "status": "ok",
     "timestamp": 1646445830617,
     "user": {
      "displayName": "Luis Andres Campos Maldonado",
      "photoUrl": "https://lh3.googleusercontent.com/a-/AOh14Gjy_VBhR7czCb9Uvs0U0yRgP0qwOadthWro3Ab2=s64",
      "userId": "15478348060554261231"
     },
     "user_tz": 300
    },
    "id": "rMnca36ABXtI",
    "outputId": "5a7c3f80-4327-4e74-b7be-b3a51cbaf309"
   },
   "outputs": [
    {
     "data": {
      "text/plain": [
       "['a', 'e', 'i', 'o', 'u']"
      ]
     },
     "execution_count": 46,
     "metadata": {},
     "output_type": "execute_result"
    }
   ],
   "source": [
    "# Comprensión de listas con funciones de Python\n",
    "vocales = [v.lower() for v in ['A','E','I','O','U']]\n",
    "vocales"
   ]
  },
  {
   "cell_type": "code",
   "execution_count": 47,
   "metadata": {
    "colab": {
     "base_uri": "https://localhost:8080/"
    },
    "executionInfo": {
     "elapsed": 43,
     "status": "ok",
     "timestamp": 1646445830617,
     "user": {
      "displayName": "Luis Andres Campos Maldonado",
      "photoUrl": "https://lh3.googleusercontent.com/a-/AOh14Gjy_VBhR7czCb9Uvs0U0yRgP0qwOadthWro3Ab2=s64",
      "userId": "15478348060554261231"
     },
     "user_tz": 300
    },
    "id": "qeB7alj8BXqS",
    "outputId": "62dfb5a1-4637-4126-bd1a-55fc34fbac95"
   },
   "outputs": [
    {
     "name": "stdout",
     "output_type": "stream",
     "text": [
      "[10, 9, 8, 7, 6, 5, 4, 3, 2, 1, 0, 1, 2, 3, 4, 5, 6, 7, 8, 9]\n"
     ]
    }
   ],
   "source": [
    "l2 = [abs(n) for n in nums]\n",
    "print(l2)"
   ]
  },
  {
   "cell_type": "code",
   "execution_count": 48,
   "metadata": {
    "colab": {
     "base_uri": "https://localhost:8080/"
    },
    "executionInfo": {
     "elapsed": 41,
     "status": "ok",
     "timestamp": 1646445830617,
     "user": {
      "displayName": "Luis Andres Campos Maldonado",
      "photoUrl": "https://lh3.googleusercontent.com/a-/AOh14Gjy_VBhR7czCb9Uvs0U0yRgP0qwOadthWro3Ab2=s64",
      "userId": "15478348060554261231"
     },
     "user_tz": 300
    },
    "id": "BVGTisgaBXoA",
    "outputId": "37a9ecee-7f1e-48e9-fa3f-4c925d14d482"
   },
   "outputs": [
    {
     "name": "stdout",
     "output_type": "stream",
     "text": [
      "[100, 64, 36, 16, 4, 0, 4, 16, 36, 64]\n"
     ]
    }
   ],
   "source": [
    "# Comprensión de listas con if\n",
    "l3 = [n**2 for n in nums if n%2==0]\n",
    "print(l3)"
   ]
  },
  {
   "cell_type": "code",
   "execution_count": 49,
   "metadata": {
    "colab": {
     "base_uri": "https://localhost:8080/"
    },
    "executionInfo": {
     "elapsed": 39,
     "status": "ok",
     "timestamp": 1646445830618,
     "user": {
      "displayName": "Luis Andres Campos Maldonado",
      "photoUrl": "https://lh3.googleusercontent.com/a-/AOh14Gjy_VBhR7czCb9Uvs0U0yRgP0qwOadthWro3Ab2=s64",
      "userId": "15478348060554261231"
     },
     "user_tz": 300
    },
    "id": "Pygh-4MdiFbB",
    "outputId": "ed808b15-8d96-4eb0-bf22-3938b05b49a2"
   },
   "outputs": [
    {
     "data": {
      "text/plain": [
       "['El',\n",
       " 'almuerzo',\n",
       " 'suelo',\n",
       " 'acompañarlo',\n",
       " 'con',\n",
       " '3',\n",
       " 'manzanas',\n",
       " 'y',\n",
       " '10',\n",
       " 'peras']"
      ]
     },
     "execution_count": 49,
     "metadata": {},
     "output_type": "execute_result"
    }
   ],
   "source": [
    "texto = 'El almuerzo suelo acompañarlo con 3 manzanas y 10 peras'\n",
    "texto.split(' ')"
   ]
  },
  {
   "cell_type": "code",
   "execution_count": 50,
   "metadata": {
    "colab": {
     "base_uri": "https://localhost:8080/"
    },
    "executionInfo": {
     "elapsed": 36,
     "status": "ok",
     "timestamp": 1646445830618,
     "user": {
      "displayName": "Luis Andres Campos Maldonado",
      "photoUrl": "https://lh3.googleusercontent.com/a-/AOh14Gjy_VBhR7czCb9Uvs0U0yRgP0qwOadthWro3Ab2=s64",
      "userId": "15478348060554261231"
     },
     "user_tz": 300
    },
    "id": "vCBqUm0qjT-T",
    "outputId": "217b03ff-0490-4c8c-a587-b3fbf5159696"
   },
   "outputs": [
    {
     "data": {
      "text/plain": [
       "False"
      ]
     },
     "execution_count": 50,
     "metadata": {},
     "output_type": "execute_result"
    }
   ],
   "source": [
    "\"almuerzo\".isnumeric()"
   ]
  },
  {
   "cell_type": "code",
   "execution_count": 51,
   "metadata": {
    "colab": {
     "base_uri": "https://localhost:8080/"
    },
    "executionInfo": {
     "elapsed": 33,
     "status": "ok",
     "timestamp": 1646445830618,
     "user": {
      "displayName": "Luis Andres Campos Maldonado",
      "photoUrl": "https://lh3.googleusercontent.com/a-/AOh14Gjy_VBhR7czCb9Uvs0U0yRgP0qwOadthWro3Ab2=s64",
      "userId": "15478348060554261231"
     },
     "user_tz": 300
    },
    "id": "krbp59slkglh",
    "outputId": "c9652559-8fae-4a59-9f99-69988ed0a719"
   },
   "outputs": [
    {
     "data": {
      "text/plain": [
       "['uno',\n",
       " 'dos',\n",
       " 'tres',\n",
       " 'cuatro',\n",
       " 'cinco',\n",
       " 'seis',\n",
       " 'siete',\n",
       " 'ocho',\n",
       " 'nueve',\n",
       " 'diez']"
      ]
     },
     "execution_count": 51,
     "metadata": {},
     "output_type": "execute_result"
    }
   ],
   "source": [
    "num_txt"
   ]
  },
  {
   "cell_type": "code",
   "execution_count": 52,
   "metadata": {
    "colab": {
     "base_uri": "https://localhost:8080/"
    },
    "executionInfo": {
     "elapsed": 31,
     "status": "ok",
     "timestamp": 1646445830619,
     "user": {
      "displayName": "Luis Andres Campos Maldonado",
      "photoUrl": "https://lh3.googleusercontent.com/a-/AOh14Gjy_VBhR7czCb9Uvs0U0yRgP0qwOadthWro3Ab2=s64",
      "userId": "15478348060554261231"
     },
     "user_tz": 300
    },
    "id": "HT8-_xLUBXli",
    "outputId": "cf678371-4359-4890-d45a-6fec324d0051"
   },
   "outputs": [
    {
     "name": "stdout",
     "output_type": "stream",
     "text": [
      "['El', 'almuerzo', 'suelo', 'acompañarlo', 'con', 'tres', 'manzanas', 'y', 'diez', 'peras']\n"
     ]
    }
   ],
   "source": [
    "# Comprensión de listas con if y else\n",
    "texto = 'El almuerzo suelo acompañarlo con 3 manzanas y 10 peras'\n",
    "texto2 = [txt if not txt.isnumeric() else num_txt[int(txt)-1] for txt in texto.split(' ')]\n",
    "print(texto2)"
   ]
  },
  {
   "cell_type": "code",
   "execution_count": 53,
   "metadata": {
    "colab": {
     "base_uri": "https://localhost:8080/"
    },
    "executionInfo": {
     "elapsed": 28,
     "status": "ok",
     "timestamp": 1646445830619,
     "user": {
      "displayName": "Luis Andres Campos Maldonado",
      "photoUrl": "https://lh3.googleusercontent.com/a-/AOh14Gjy_VBhR7czCb9Uvs0U0yRgP0qwOadthWro3Ab2=s64",
      "userId": "15478348060554261231"
     },
     "user_tz": 300
    },
    "id": "0URBUOQ7j9oi",
    "outputId": "790fe49a-4f2f-4deb-87cf-c9e52df9262e"
   },
   "outputs": [
    {
     "name": "stdout",
     "output_type": "stream",
     "text": [
      "El almuerzo suelo acompañarlo con tres manzanas y diez peras\n"
     ]
    }
   ],
   "source": [
    "string = \" \"\n",
    "texto3 = string.join(texto2)\n",
    "print(texto3)"
   ]
  },
  {
   "cell_type": "code",
   "execution_count": 54,
   "metadata": {
    "colab": {
     "base_uri": "https://localhost:8080/"
    },
    "executionInfo": {
     "elapsed": 26,
     "status": "ok",
     "timestamp": 1646445830619,
     "user": {
      "displayName": "Luis Andres Campos Maldonado",
      "photoUrl": "https://lh3.googleusercontent.com/a-/AOh14Gjy_VBhR7czCb9Uvs0U0yRgP0qwOadthWro3Ab2=s64",
      "userId": "15478348060554261231"
     },
     "user_tz": 300
    },
    "id": "FwjHaA8uBXjF",
    "outputId": "a98a3cec-73e5-440c-9312-353595c11a3f"
   },
   "outputs": [
    {
     "name": "stdout",
     "output_type": "stream",
     "text": [
      "[0, 10, 20, 30, 40, 50, 60, 70, 80, 90]\n"
     ]
    }
   ],
   "source": [
    "# Comprensión de listas con multiple if\n",
    "modulo = [x for x in range(100) if x % 2 == 0 if x % 5 == 0]\n",
    "print(modulo)"
   ]
  },
  {
   "cell_type": "markdown",
   "metadata": {
    "id": "eSG-_4DrEme2"
   },
   "source": [
    "### Comprensión de listas anidadas.\n"
   ]
  },
  {
   "cell_type": "code",
   "execution_count": 55,
   "metadata": {
    "colab": {
     "base_uri": "https://localhost:8080/"
    },
    "executionInfo": {
     "elapsed": 24,
     "status": "ok",
     "timestamp": 1646445830620,
     "user": {
      "displayName": "Luis Andres Campos Maldonado",
      "photoUrl": "https://lh3.googleusercontent.com/a-/AOh14Gjy_VBhR7czCb9Uvs0U0yRgP0qwOadthWro3Ab2=s64",
      "userId": "15478348060554261231"
     },
     "user_tz": 300
    },
    "id": "lYZC4GINEmFE",
    "outputId": "ea3ba03f-6af5-4bc1-977f-659929324bf6"
   },
   "outputs": [
    {
     "data": {
      "text/plain": [
       "[[1, 2, 3, 4], [5, 6, 7, 8], [9, 10, 11, 12]]"
      ]
     },
     "execution_count": 55,
     "metadata": {},
     "output_type": "execute_result"
    }
   ],
   "source": [
    "# Vamos a construir una matriz en un lista de listas. (Tomado de la documentación oficial.)\n",
    "matrix = [[1, 2, 3, 4],\n",
    "          [5, 6, 7, 8],\n",
    "         [9, 10, 11, 12],\n",
    "          ]\n",
    "matrix"
   ]
  },
  {
   "cell_type": "code",
   "execution_count": 56,
   "metadata": {
    "colab": {
     "base_uri": "https://localhost:8080/"
    },
    "executionInfo": {
     "elapsed": 308,
     "status": "ok",
     "timestamp": 1646445830906,
     "user": {
      "displayName": "Luis Andres Campos Maldonado",
      "photoUrl": "https://lh3.googleusercontent.com/a-/AOh14Gjy_VBhR7czCb9Uvs0U0yRgP0qwOadthWro3Ab2=s64",
      "userId": "15478348060554261231"
     },
     "user_tz": 300
    },
    "id": "8HfCXPswFPy-",
    "outputId": "a27457e4-d87a-4987-9e68-825d52440c64"
   },
   "outputs": [
    {
     "name": "stdout",
     "output_type": "stream",
     "text": [
      "[[1, 5, 9], [2, 6, 10], [3, 7, 11], [4, 8, 12]]\n",
      "CPU times: user 153 µs, sys: 17 µs, total: 170 µs\n",
      "Wall time: 179 µs\n"
     ]
    }
   ],
   "source": [
    "%%time\n",
    "## Supongamos de deseamos transponer la matriz, es decir filas en columnas y viceversa\n",
    "transpuesta = []\n",
    "for i in range(4):\n",
    "    filas = []\n",
    "    for row in matrix:\n",
    "        filas.append(row[i])\n",
    "    transpuesta.append(filas)\n",
    "\n",
    "print(transpuesta)"
   ]
  },
  {
   "cell_type": "markdown",
   "metadata": {
    "id": "e7-Zv_U_FZX7"
   },
   "source": [
    "La lógica del código anterior es la siguiente:\n",
    "\n",
    "Se deben recorrer las 4 columnas de la matriz, luego, en cada recorrido se toma las filas de la matriz y se toma el primer elemento, este, se va consigando en la lista `filas=[]` luego se agrega dicha lista en la lista `transpuesta=[]`. Al cabo de recorrer todos las columnas se obtiene la matriz buscada.\n",
    "\n",
    "Al realizar la misma tarea con una list comprehensions, tenemos:"
   ]
  },
  {
   "cell_type": "code",
   "execution_count": 57,
   "metadata": {
    "colab": {
     "base_uri": "https://localhost:8080/"
    },
    "executionInfo": {
     "elapsed": 27,
     "status": "ok",
     "timestamp": 1646445830906,
     "user": {
      "displayName": "Luis Andres Campos Maldonado",
      "photoUrl": "https://lh3.googleusercontent.com/a-/AOh14Gjy_VBhR7czCb9Uvs0U0yRgP0qwOadthWro3Ab2=s64",
      "userId": "15478348060554261231"
     },
     "user_tz": 300
    },
    "id": "RTdw0Dk6IKCz",
    "outputId": "e21fd4dc-bc93-4f47-df13-c402d2901979"
   },
   "outputs": [
    {
     "name": "stdout",
     "output_type": "stream",
     "text": [
      "CPU times: user 23 µs, sys: 2 µs, total: 25 µs\n",
      "Wall time: 34.6 µs\n"
     ]
    },
    {
     "data": {
      "text/plain": [
       "[[1, 5, 9], [2, 6, 10], [3, 7, 11], [4, 8, 12]]"
      ]
     },
     "execution_count": 57,
     "metadata": {},
     "output_type": "execute_result"
    }
   ],
   "source": [
    "%%time\n",
    "[[filas[i] for filas in matrix] for i in range(4)]"
   ]
  },
  {
   "cell_type": "markdown",
   "metadata": {
    "id": "pgKJA-0LIr_Y"
   },
   "source": [
    "En esta caso la lógica del código es la siguiente:\n",
    "\n",
    "Como debemos crear las filas como una lista tenemos el siguiente códido\n",
    "\n",
    "```python\n",
    "[filas[i] for filas in matrix]\n",
    "```\n",
    "Note que la anterior `comprensión de lista` recorre todos los elementos de la lista `matrix` y se queda con el primer elemento de cada una de las listas internas. Para cada valor fijo de `i` se obtiene una fila de la matriz buscada.\n",
    "\n",
    "Como necesitamos obtener la lista final, hacemos el recorrido tantas veces como columnas tiene la matriz y así generamos la matriz busada.\n",
    "\n",
    "Puede pensar que el primer `for` que se necesita recorrer, es el último en la `list comprehensions`"
   ]
  },
  {
   "cell_type": "markdown",
   "metadata": {
    "id": "juVp7gzHqZdP"
   },
   "source": [
    "## __Revisión de información en la WEB__\n",
    "\n",
    "* Tuplas.\n",
    "* Conjuntos.\n",
    "* Diccionarios.\n",
    "\n",
    "`Lectura_3` del curso de Introducción a `Pyhton`.\n",
    "\n",
    "Finalmente seguir la guía de [Estructuras de datos en Python Docs](https://docs.python.org/3/tutorial/datastructures.html)"
   ]
  },
  {
   "cell_type": "markdown",
   "metadata": {
    "id": "Q5XvFocVty5b"
   },
   "source": [
    "## __Ejercicio 3__\n",
    "\n",
    "Resolver los siguientes problemas sin utilizar las funciones que ya están definidas en estas estructuras. La idea es hacer un recorrido completo por los valores de las estructuras y responder apropiadamente:\n",
    "\n",
    "- __Problema 1__ Se plantea la necesidad de buscar un valor en una lista o tupla e indicar la posición en la que se encuentra.\n",
    "- __Problema 2__ Ahora se quiere saber cuántas veces aparece un determinado valor en una lista\n",
    "- __Problema 3__ Se quiere saber cuál de los valores en una lista, tupla es el que se presenta con mayor frecuencia."
   ]
  },
  {
   "cell_type": "code",
   "execution_count": 58,
   "metadata": {
    "colab": {
     "base_uri": "https://localhost:8080/"
    },
    "executionInfo": {
     "elapsed": 20,
     "status": "ok",
     "timestamp": 1646445830907,
     "user": {
      "displayName": "Luis Andres Campos Maldonado",
      "photoUrl": "https://lh3.googleusercontent.com/a-/AOh14Gjy_VBhR7czCb9Uvs0U0yRgP0qwOadthWro3Ab2=s64",
      "userId": "15478348060554261231"
     },
     "user_tz": 300
    },
    "id": "uYr9OZOw8AHi",
    "outputId": "b8c414ec-050e-45e1-9ae2-62f55a5a07bf"
   },
   "outputs": [
    {
     "data": {
      "text/plain": [
       "3"
      ]
     },
     "execution_count": 58,
     "metadata": {},
     "output_type": "execute_result"
    }
   ],
   "source": [
    "## Problema 1.\n",
    "def find_position(lista_or_tuple, value):\n",
    "  pos = 0\n",
    "  if value in lista_or_tuple:\n",
    "    for values in lista_or_tuple:\n",
    "      pos +=1\n",
    "      if value == values:\n",
    "        return pos\n",
    "  else:\n",
    "    print(\"El valor no está en la lista\")\n",
    "\n",
    "find_position((1,2,6,5,8),6)"
   ]
  },
  {
   "cell_type": "code",
   "execution_count": 59,
   "metadata": {
    "colab": {
     "base_uri": "https://localhost:8080/"
    },
    "executionInfo": {
     "elapsed": 13,
     "status": "ok",
     "timestamp": 1646445830907,
     "user": {
      "displayName": "Luis Andres Campos Maldonado",
      "photoUrl": "https://lh3.googleusercontent.com/a-/AOh14Gjy_VBhR7czCb9Uvs0U0yRgP0qwOadthWro3Ab2=s64",
      "userId": "15478348060554261231"
     },
     "user_tz": 300
    },
    "id": "OlX7dtD7-8eL",
    "outputId": "818e3398-5ac4-4e66-ea8a-52f35b6fbaa1"
   },
   "outputs": [
    {
     "data": {
      "text/plain": [
       "2"
      ]
     },
     "execution_count": 59,
     "metadata": {},
     "output_type": "execute_result"
    }
   ],
   "source": [
    "## Problema 2.\n",
    "def count_element(lista, value):\n",
    "  count = 0\n",
    "  for values in lista:\n",
    "    if value == values:\n",
    "      count+=1\n",
    "  return count \n",
    "count_element([2,5,8,5,9,5,7,5-89,28,8], 8)"
   ]
  },
  {
   "cell_type": "code",
   "execution_count": 60,
   "metadata": {
    "colab": {
     "base_uri": "https://localhost:8080/"
    },
    "executionInfo": {
     "elapsed": 9,
     "status": "ok",
     "timestamp": 1646445830908,
     "user": {
      "displayName": "Luis Andres Campos Maldonado",
      "photoUrl": "https://lh3.googleusercontent.com/a-/AOh14Gjy_VBhR7czCb9Uvs0U0yRgP0qwOadthWro3Ab2=s64",
      "userId": "15478348060554261231"
     },
     "user_tz": 300
    },
    "id": "LLpUO0aJA8HV",
    "outputId": "1a04149e-ad46-453a-d270-3c2077b8ea1b"
   },
   "outputs": [
    {
     "data": {
      "text/plain": [
       "5"
      ]
     },
     "execution_count": 60,
     "metadata": {},
     "output_type": "execute_result"
    }
   ],
   "source": [
    "## Problema 3.\n",
    "def most_frecuency(lista_or_tuple):\n",
    "  max, L  = 0, []\n",
    "  for value in lista_or_tuple:\n",
    "    if value not in L:\n",
    "      L.append(value)\n",
    "      temp = count_element(lista_or_tuple,value)\n",
    "      if temp > max:\n",
    "        max = temp\n",
    "        moda = value\n",
    "  return moda\n",
    "\n",
    "most_frecuency([8,5,9,5,7,5-89,28,8,5])"
   ]
  },
  {
   "cell_type": "markdown",
   "metadata": {
    "id": "7EIVDANVrnI5"
   },
   "source": [
    "### Pruebas de tiempo"
   ]
  },
  {
   "cell_type": "code",
   "execution_count": 61,
   "metadata": {
    "executionInfo": {
     "elapsed": 1927,
     "status": "ok",
     "timestamp": 1646445832830,
     "user": {
      "displayName": "Luis Andres Campos Maldonado",
      "photoUrl": "https://lh3.googleusercontent.com/a-/AOh14Gjy_VBhR7czCb9Uvs0U0yRgP0qwOadthWro3Ab2=s64",
      "userId": "15478348060554261231"
     },
     "user_tz": 300
    },
    "id": "wOZefnA8qBxQ"
   },
   "outputs": [],
   "source": [
    "import random\n",
    "import numpy as np\n",
    "\n",
    "prueba = random.choices(np.linspace(0,9,10), k = 5000000)"
   ]
  },
  {
   "cell_type": "code",
   "execution_count": 62,
   "metadata": {
    "colab": {
     "base_uri": "https://localhost:8080/"
    },
    "executionInfo": {
     "elapsed": 5213,
     "status": "ok",
     "timestamp": 1646445838038,
     "user": {
      "displayName": "Luis Andres Campos Maldonado",
      "photoUrl": "https://lh3.googleusercontent.com/a-/AOh14Gjy_VBhR7czCb9Uvs0U0yRgP0qwOadthWro3Ab2=s64",
      "userId": "15478348060554261231"
     },
     "user_tz": 300
    },
    "id": "II9jlw9Krxk7",
    "outputId": "ade2583c-d741-454f-e033-fc2863dfc01f"
   },
   "outputs": [
    {
     "name": "stdout",
     "output_type": "stream",
     "text": [
      "CPU times: user 5.62 s, sys: 20.5 ms, total: 5.64 s\n",
      "Wall time: 5.65 s\n"
     ]
    },
    {
     "data": {
      "text/plain": [
       "0.0"
      ]
     },
     "execution_count": 62,
     "metadata": {},
     "output_type": "execute_result"
    }
   ],
   "source": [
    "%%time\n",
    "most_frecuency(tuple(prueba))"
   ]
  },
  {
   "cell_type": "code",
   "execution_count": 63,
   "metadata": {
    "colab": {
     "base_uri": "https://localhost:8080/"
    },
    "executionInfo": {
     "elapsed": 356,
     "status": "ok",
     "timestamp": 1646445838372,
     "user": {
      "displayName": "Luis Andres Campos Maldonado",
      "photoUrl": "https://lh3.googleusercontent.com/a-/AOh14Gjy_VBhR7czCb9Uvs0U0yRgP0qwOadthWro3Ab2=s64",
      "userId": "15478348060554261231"
     },
     "user_tz": 300
    },
    "id": "_r8bopjMr71E",
    "outputId": "01a8945b-1ed8-46bb-81e0-181f686fb992"
   },
   "outputs": [
    {
     "name": "stdout",
     "output_type": "stream",
     "text": [
      "CPU times: user 837 ms, sys: 4.95 ms, total: 842 ms\n",
      "Wall time: 901 ms\n"
     ]
    },
    {
     "data": {
      "text/plain": [
       "501218"
      ]
     },
     "execution_count": 63,
     "metadata": {},
     "output_type": "execute_result"
    }
   ],
   "source": [
    "%%time\n",
    "prueba.count(0.0)"
   ]
  },
  {
   "cell_type": "code",
   "execution_count": 64,
   "metadata": {
    "colab": {
     "base_uri": "https://localhost:8080/"
    },
    "executionInfo": {
     "elapsed": 668,
     "status": "ok",
     "timestamp": 1646445839039,
     "user": {
      "displayName": "Luis Andres Campos Maldonado",
      "photoUrl": "https://lh3.googleusercontent.com/a-/AOh14Gjy_VBhR7czCb9Uvs0U0yRgP0qwOadthWro3Ab2=s64",
      "userId": "15478348060554261231"
     },
     "user_tz": 300
    },
    "id": "vIZuLLNUsPRj",
    "outputId": "83e78719-1771-48ec-a7ba-9ea279e9a7a1"
   },
   "outputs": [
    {
     "name": "stdout",
     "output_type": "stream",
     "text": [
      "CPU times: user 1.1 s, sys: 3.48 ms, total: 1.1 s\n",
      "Wall time: 1.11 s\n"
     ]
    },
    {
     "data": {
      "text/plain": [
       "501218"
      ]
     },
     "execution_count": 64,
     "metadata": {},
     "output_type": "execute_result"
    }
   ],
   "source": [
    "%%time\n",
    "count_element(prueba,0.0)"
   ]
  },
  {
   "cell_type": "markdown",
   "metadata": {
    "id": "Q1ad3jj4qiiZ"
   },
   "source": [
    "---\n",
    "# Ejercicio en clase\n",
    "---\n",
    "\n",
    "### Problema de las votaciones\n",
    "\n",
    "A continuación tenemos un diccionario con el nombre del candidato y el número que le corresponde. También, se tienen seis mesas de votación en donde se registra el voto por cada candidato usando el respectivo número. Cuando se registra cero, corresponde a votos en blanco. El objetivo es contar la votación de cada candidato para saber como proceder de acuerdo con las siguientes reglas:\n",
    "\n",
    "1. Si el voto en blanco consigue la mayor votación se debe convocar otras elecciones con otros candidatos\n",
    "2. Si un candidato supera más del 50% de la votación, quitando los votos en blanco. Gana las elecciones\n",
    "3. En caso contrario, los dos candidatos con mayor votación pasan a segunda vuelta.\n",
    "\n",
    "Hacer un programa que determine cual es el resultado final de las elecciones de acuerdo con las reglas establecidas siguiendo los pasos del pensamiento computacional.\n",
    "\n"
   ]
  },
  {
   "cell_type": "code",
   "execution_count": 65,
   "metadata": {
    "executionInfo": {
     "elapsed": 45,
     "status": "ok",
     "timestamp": 1646445839040,
     "user": {
      "displayName": "Luis Andres Campos Maldonado",
      "photoUrl": "https://lh3.googleusercontent.com/a-/AOh14Gjy_VBhR7czCb9Uvs0U0yRgP0qwOadthWro3Ab2=s64",
      "userId": "15478348060554261231"
     },
     "user_tz": 300
    },
    "id": "kCjLN7kZB7xK"
   },
   "outputs": [],
   "source": [
    "candidatos = {'José Arcadio': 101, 'Aureliano': 75, 'Úrsula': 143, 'Amaranta': 56, 'Rebeca': 9, 'blanco': 0}\n",
    "mesa1 = [75,143,75,56,0,9,0,75,9,9,143,75,75,0,101,101,75,56,101,56,0,56,0,101,56,143,101,56,56,101,0,56,0,0,0]\n",
    "mesa2 = [0,0,0,101,0,101,0,143,0,56,0,143,9,101,56,101,56,75,0,0,101,101,101,0,0,56,75,0,56,0,75,75,0,0,101,143,75,143,56,101]\n",
    "mesa3 = [56,143,0,0,9,101,9,75,101,9,101,0,143,75,0,0,143,75,143,0,101,56,56,75,56,0,75,9,0,75,75,0,0,0,101,101,0,101,0,75,0,0,0,101,9]\n",
    "mesa4 = [75,0,0,143,0,101,0,0,75,101,75,0,101,56,0,0,101,9,0,0,56,56,75,0,143,143,101,101,101,75,0,143,101,0,0,75,101,143,101,0,\\\n",
    "         75,101,75,75,0,56,143,101,101,0]\n",
    "mesa5 = [0,0,0,0,75,101,101,143,9,75,143,0,75,56,75,143,0,56,101,0,101,9,9,75,101,0,101,0,0,101,143,101,101,56,0,0,0,0,75,75,101,\\\n",
    "         101,101,101,101,9,75,143,0,56,143,143,75,56,101]\n",
    "mesa6 = [101,143,101,101,101,9,101,9,9,75,75,75,75,101,101,75,56,101,143,75,101,9,101,143,101,101,101,101,101,101,101,75,101,75,101,\\\n",
    "         101,75,75,143,75,101,9,56,9,75,101,143,143,143,101,75,101,101,101,143,101,101,101,101,9]"
   ]
  },
  {
   "cell_type": "code",
   "execution_count": 66,
   "metadata": {
    "colab": {
     "base_uri": "https://localhost:8080/"
    },
    "executionInfo": {
     "elapsed": 14,
     "status": "ok",
     "timestamp": 1646445839044,
     "user": {
      "displayName": "Luis Andres Campos Maldonado",
      "photoUrl": "https://lh3.googleusercontent.com/a-/AOh14Gjy_VBhR7czCb9Uvs0U0yRgP0qwOadthWro3Ab2=s64",
      "userId": "15478348060554261231"
     },
     "user_tz": 300
    },
    "id": "QOjHO8SI8cR-",
    "outputId": "9339aa22-6eaa-4f60-9ab3-8bce352c6896"
   },
   "outputs": [
    {
     "name": "stdout",
     "output_type": "stream",
     "text": [
      "------------------------------------------------------------\n",
      "El candidato José Arcadio en la mesa 1 tuvo 6\n",
      "El candidato José Arcadio en la mesa 2 tuvo 9\n",
      "El candidato José Arcadio en la mesa 3 tuvo 8\n",
      "El candidato José Arcadio en la mesa 4 tuvo 13\n",
      "El candidato José Arcadio en la mesa 5 tuvo 15\n",
      "El candidato José Arcadio en la mesa 6 tuvo 30\n",
      "------------------------------------------------------------\n",
      "El candidato Aureliano en la mesa 1 tuvo 6\n",
      "El candidato Aureliano en la mesa 2 tuvo 5\n",
      "El candidato Aureliano en la mesa 3 tuvo 8\n",
      "El candidato Aureliano en la mesa 4 tuvo 9\n",
      "El candidato Aureliano en la mesa 5 tuvo 9\n",
      "El candidato Aureliano en la mesa 6 tuvo 13\n",
      "------------------------------------------------------------\n",
      "El candidato Úrsula en la mesa 1 tuvo 3\n",
      "El candidato Úrsula en la mesa 2 tuvo 4\n",
      "El candidato Úrsula en la mesa 3 tuvo 4\n",
      "El candidato Úrsula en la mesa 4 tuvo 6\n",
      "El candidato Úrsula en la mesa 5 tuvo 7\n",
      "El candidato Úrsula en la mesa 6 tuvo 8\n",
      "------------------------------------------------------------\n",
      "El candidato Amaranta en la mesa 1 tuvo 8\n",
      "El candidato Amaranta en la mesa 2 tuvo 6\n",
      "El candidato Amaranta en la mesa 3 tuvo 4\n",
      "El candidato Amaranta en la mesa 4 tuvo 4\n",
      "El candidato Amaranta en la mesa 5 tuvo 5\n",
      "El candidato Amaranta en la mesa 6 tuvo 2\n",
      "------------------------------------------------------------\n",
      "El candidato Rebeca en la mesa 1 tuvo 3\n",
      "El candidato Rebeca en la mesa 2 tuvo 1\n",
      "El candidato Rebeca en la mesa 3 tuvo 5\n",
      "El candidato Rebeca en la mesa 4 tuvo 1\n",
      "El candidato Rebeca en la mesa 5 tuvo 4\n",
      "El candidato Rebeca en la mesa 6 tuvo 7\n",
      "------------------------------------------------------------\n",
      "El candidato blanco en la mesa 1 tuvo 9\n",
      "El candidato blanco en la mesa 2 tuvo 15\n",
      "El candidato blanco en la mesa 3 tuvo 16\n",
      "El candidato blanco en la mesa 4 tuvo 17\n",
      "El candidato blanco en la mesa 5 tuvo 15\n",
      "El candidato blanco en la mesa 6 tuvo 0\n",
      "------------------------------------------------------------\n"
     ]
    }
   ],
   "source": [
    "mesas = [mesa1, mesa2, mesa3, mesa4, mesa5, mesa6]\n",
    "\n",
    "print(\"-\"*60)\n",
    "for key, values in candidatos.items():\n",
    "  for i, j in enumerate(mesas):    \n",
    "    print(f'El candidato {key} en la mesa {i+1} tuvo {j.count(values)}')\n",
    "  print(\"-\"*60)"
   ]
  },
  {
   "cell_type": "code",
   "execution_count": 67,
   "metadata": {
    "colab": {
     "base_uri": "https://localhost:8080/"
    },
    "executionInfo": {
     "elapsed": 44,
     "status": "ok",
     "timestamp": 1646445839040,
     "user": {
      "displayName": "Luis Andres Campos Maldonado",
      "photoUrl": "https://lh3.googleusercontent.com/a-/AOh14Gjy_VBhR7czCb9Uvs0U0yRgP0qwOadthWro3Ab2=s64",
      "userId": "15478348060554261231"
     },
     "user_tz": 300
    },
    "id": "bcrwQ62SWpMv",
    "outputId": "79f5b1dd-43f1-48a5-826f-b6b092cf309f"
   },
   "outputs": [
    {
     "data": {
      "text/plain": [
       "dict_keys(['José Arcadio', 'Aureliano', 'Úrsula', 'Amaranta', 'Rebeca', 'blanco'])"
      ]
     },
     "execution_count": 67,
     "metadata": {},
     "output_type": "execute_result"
    }
   ],
   "source": [
    "candidatos.keys()"
   ]
  },
  {
   "cell_type": "code",
   "execution_count": 68,
   "metadata": {
    "colab": {
     "base_uri": "https://localhost:8080/"
    },
    "executionInfo": {
     "elapsed": 37,
     "status": "ok",
     "timestamp": 1646445839040,
     "user": {
      "displayName": "Luis Andres Campos Maldonado",
      "photoUrl": "https://lh3.googleusercontent.com/a-/AOh14Gjy_VBhR7czCb9Uvs0U0yRgP0qwOadthWro3Ab2=s64",
      "userId": "15478348060554261231"
     },
     "user_tz": 300
    },
    "id": "9O3zGvapXBzV",
    "outputId": "f6cf240a-6faa-4e62-b535-fe07ef3cdd04"
   },
   "outputs": [
    {
     "name": "stdout",
     "output_type": "stream",
     "text": [
      "José Arcadio\n",
      "Aureliano\n",
      "Úrsula\n",
      "Amaranta\n",
      "Rebeca\n",
      "blanco\n"
     ]
    }
   ],
   "source": [
    "for i in candidatos.keys():\n",
    "  print(i)"
   ]
  },
  {
   "cell_type": "code",
   "execution_count": 69,
   "metadata": {
    "colab": {
     "base_uri": "https://localhost:8080/"
    },
    "executionInfo": {
     "elapsed": 34,
     "status": "ok",
     "timestamp": 1646445839041,
     "user": {
      "displayName": "Luis Andres Campos Maldonado",
      "photoUrl": "https://lh3.googleusercontent.com/a-/AOh14Gjy_VBhR7czCb9Uvs0U0yRgP0qwOadthWro3Ab2=s64",
      "userId": "15478348060554261231"
     },
     "user_tz": 300
    },
    "id": "gLAbdxGOW3zs",
    "outputId": "541c2c02-dd7b-4ccd-f433-e0ba959dede9"
   },
   "outputs": [
    {
     "data": {
      "text/plain": [
       "dict_values([101, 75, 143, 56, 9, 0])"
      ]
     },
     "execution_count": 69,
     "metadata": {},
     "output_type": "execute_result"
    }
   ],
   "source": [
    "candidatos.values()"
   ]
  },
  {
   "cell_type": "code",
   "execution_count": 70,
   "metadata": {
    "colab": {
     "base_uri": "https://localhost:8080/"
    },
    "executionInfo": {
     "elapsed": 30,
     "status": "ok",
     "timestamp": 1646445839041,
     "user": {
      "displayName": "Luis Andres Campos Maldonado",
      "photoUrl": "https://lh3.googleusercontent.com/a-/AOh14Gjy_VBhR7czCb9Uvs0U0yRgP0qwOadthWro3Ab2=s64",
      "userId": "15478348060554261231"
     },
     "user_tz": 300
    },
    "id": "jpiLZyabXT8x",
    "outputId": "2302dce3-9062-4242-fe1a-c601006c3aaa"
   },
   "outputs": [
    {
     "name": "stdout",
     "output_type": "stream",
     "text": [
      "José Arcadio 101\n",
      "Aureliano 75\n",
      "Úrsula 143\n",
      "Amaranta 56\n",
      "Rebeca 9\n",
      "blanco 0\n"
     ]
    }
   ],
   "source": [
    "for key, value in candidatos.items():\n",
    "  print(key,value)"
   ]
  },
  {
   "cell_type": "code",
   "execution_count": 71,
   "metadata": {
    "colab": {
     "base_uri": "https://localhost:8080/"
    },
    "executionInfo": {
     "elapsed": 28,
     "status": "ok",
     "timestamp": 1646445839042,
     "user": {
      "displayName": "Luis Andres Campos Maldonado",
      "photoUrl": "https://lh3.googleusercontent.com/a-/AOh14Gjy_VBhR7czCb9Uvs0U0yRgP0qwOadthWro3Ab2=s64",
      "userId": "15478348060554261231"
     },
     "user_tz": 300
    },
    "id": "8a-kCHP75NQk",
    "outputId": "a313c901-3b56-4a6a-b293-cd14dc6db528"
   },
   "outputs": [
    {
     "data": {
      "text/plain": [
       "{'José Arcadio': 81,\n",
       " 'Aureliano': 50,\n",
       " 'Úrsula': 32,\n",
       " 'Amaranta': 29,\n",
       " 'Rebeca': 21,\n",
       " 'blanco': 72}"
      ]
     },
     "execution_count": 71,
     "metadata": {},
     "output_type": "execute_result"
    }
   ],
   "source": [
    "# celda para resolver los ejercicios\n",
    "\n",
    "## Función que cuenta los votos por mesa.\n",
    "def count_votes(*arguments, candidatos):\n",
    "  '''\n",
    "  Solución al problema ejercicio en clase. Función que cuenta los votos por mesa.\n",
    "  Input : *arguments: Listas de la información frente a la votación por mesa. (Cada mesa es una lista.)\n",
    "          candidatos: diccionario con las etiquetas de los candidatos y el número asignado que enlaza con los valores en las listas.\n",
    "  Output: Diccionario con el total de votas de cada candidato.\n",
    "  '''\n",
    "  dicc = dict() ## Creamos un diccionario vacio.\n",
    "  for key, value in candidatos.items():\n",
    "    count = 0\n",
    "    for mesa in arguments:\n",
    "      count += count_element(mesa,value)\n",
    "    dicc[key] = count\n",
    "  return dicc\n",
    "\n",
    "prueba1 = count_votes(mesa1,mesa2,mesa3,mesa4,mesa5,mesa6,candidatos=candidatos)\n",
    "prueba1"
   ]
  },
  {
   "cell_type": "code",
   "execution_count": 72,
   "metadata": {
    "colab": {
     "base_uri": "https://localhost:8080/"
    },
    "executionInfo": {
     "elapsed": 24,
     "status": "ok",
     "timestamp": 1646445839042,
     "user": {
      "displayName": "Luis Andres Campos Maldonado",
      "photoUrl": "https://lh3.googleusercontent.com/a-/AOh14Gjy_VBhR7czCb9Uvs0U0yRgP0qwOadthWro3Ab2=s64",
      "userId": "15478348060554261231"
     },
     "user_tz": 300
    },
    "id": "xr2J7IceCq_K",
    "outputId": "dc203a6e-65f0-4829-df26-9f3785036220"
   },
   "outputs": [
    {
     "name": "stdout",
     "output_type": "stream",
     "text": [
      "Pasan a segunda vuelta: {'José Arcadio': 81, 'Aureliano': 50}\n"
     ]
    }
   ],
   "source": [
    "## Función que da los resultados de la elección luego de tener los totales por candidato.\n",
    "def arg_max_dicc(dicc):\n",
    "  max , total =  0, 0\n",
    "  for key, value in dicc.items():\n",
    "    if value > max:\n",
    "      max = value\n",
    "      key_max = key\n",
    "    total += value\n",
    "  if key_max == \"blanco\":\n",
    "    return print(\"Se deben repetir las elecciones con diferentes candidatos, pues ganó el voto en BLANCO\")\n",
    "  else:\n",
    "    if dicc[key_max] > (total-dicc[\"blanco\"])/2:\n",
    "      return print(\"El ganador con más del 50% quitando los votos en blanco es:\", key_max, \"pues obtuvo\", dicc[key_max], \"de\", total-dicc[\"blanco\"])\n",
    "    else:\n",
    "      [dicc.pop(key) for key in [\"blanco\", key_max]]\n",
    "      max1 = 0\n",
    "      for key, value in dicc.items():\n",
    "        if value > max1:\n",
    "          max1 = value\n",
    "          key_max1 = key\n",
    "      dicc_final = dict(zip([key_max,key_max1], [max,max1]))\n",
    "      return print(\"Pasan a segunda vuelta:\", dicc_final)\n",
    "\n",
    "arg_max_dicc(prueba1)"
   ]
  },
  {
   "cell_type": "code",
   "execution_count": 73,
   "metadata": {
    "colab": {
     "base_uri": "https://localhost:8080/"
    },
    "executionInfo": {
     "elapsed": 21,
     "status": "ok",
     "timestamp": 1646445839042,
     "user": {
      "displayName": "Luis Andres Campos Maldonado",
      "photoUrl": "https://lh3.googleusercontent.com/a-/AOh14Gjy_VBhR7czCb9Uvs0U0yRgP0qwOadthWro3Ab2=s64",
      "userId": "15478348060554261231"
     },
     "user_tz": 300
    },
    "id": "ACFkl-vgyMgM",
    "outputId": "5d934989-5544-42e8-a1d1-25d0925025f6"
   },
   "outputs": [
    {
     "data": {
      "text/plain": [
       "{'h': 1, 'o': 2, 'l': 3, 'a': 4}"
      ]
     },
     "execution_count": 73,
     "metadata": {},
     "output_type": "execute_result"
    }
   ],
   "source": [
    "lista1 = \"hola\"\n",
    "lista2 = [1,2,3,4]\n",
    "\n",
    "dict(zip(lista1,lista2))"
   ]
  },
  {
   "cell_type": "code",
   "execution_count": 74,
   "metadata": {
    "colab": {
     "base_uri": "https://localhost:8080/"
    },
    "executionInfo": {
     "elapsed": 18,
     "status": "ok",
     "timestamp": 1646445839043,
     "user": {
      "displayName": "Luis Andres Campos Maldonado",
      "photoUrl": "https://lh3.googleusercontent.com/a-/AOh14Gjy_VBhR7czCb9Uvs0U0yRgP0qwOadthWro3Ab2=s64",
      "userId": "15478348060554261231"
     },
     "user_tz": 300
    },
    "id": "vuCQGgg-myDB",
    "outputId": "7ce6428e-7ae6-4cb2-96cd-5593858a0128"
   },
   "outputs": [
    {
     "name": "stdout",
     "output_type": "stream",
     "text": [
      "Pasan a segunda vuelta: {'José Arcadio': 81, 'Aureliano': 50}\n"
     ]
    }
   ],
   "source": [
    "def result_votaciones(*arguments, candidates):\n",
    "  dic = count_votes(*arguments, candidatos = candidates)\n",
    "  return arg_max_dicc(dic)\n",
    "\n",
    "result_votaciones(mesa1,mesa2,mesa3,mesa4,mesa5,mesa6,candidates=candidatos)"
   ]
  },
  {
   "cell_type": "code",
   "execution_count": 75,
   "metadata": {
    "colab": {
     "base_uri": "https://localhost:8080/"
    },
    "executionInfo": {
     "elapsed": 15,
     "status": "ok",
     "timestamp": 1646445839043,
     "user": {
      "displayName": "Luis Andres Campos Maldonado",
      "photoUrl": "https://lh3.googleusercontent.com/a-/AOh14Gjy_VBhR7czCb9Uvs0U0yRgP0qwOadthWro3Ab2=s64",
      "userId": "15478348060554261231"
     },
     "user_tz": 300
    },
    "id": "qtO5ulJchzf9",
    "outputId": "ccea262e-7e62-48a9-ab4a-92fa7945f75a"
   },
   "outputs": [
    {
     "name": "stdout",
     "output_type": "stream",
     "text": [
      "El ganador con más del 50% quitando los votos en blanco es: C1 pues obtuvo 40 de 69\n"
     ]
    }
   ],
   "source": [
    "prueba2 = {\"C1\": 40, \"blanco\":31, \"C2\": 28,\"C3\":1 }\n",
    "arg_max_dicc(prueba2)"
   ]
  }
 ],
 "metadata": {
  "colab": {
   "collapsed_sections": [],
   "name": "Lectura_4_estruc_Datos_Python.ipynb",
   "provenance": []
  },
  "kernelspec": {
   "display_name": "Python 3.8.13 64-bit",
   "language": "python",
   "name": "python3"
  },
  "language_info": {
   "codemirror_mode": {
    "name": "ipython",
    "version": 3
   },
   "file_extension": ".py",
   "mimetype": "text/x-python",
   "name": "python",
   "nbconvert_exporter": "python",
   "pygments_lexer": "ipython3",
   "version": "3.8.13"
  },
  "vscode": {
   "interpreter": {
    "hash": "df0893f56f349688326838aaeea0de204df53a132722cbd565e54b24a8fec5f6"
   }
  }
 },
 "nbformat": 4,
 "nbformat_minor": 0
}